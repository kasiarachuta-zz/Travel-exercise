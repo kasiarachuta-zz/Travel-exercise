{
 "cells": [
  {
   "cell_type": "code",
   "execution_count": 1,
   "metadata": {
    "collapsed": true
   },
   "outputs": [],
   "source": [
    "import pandas as pd\n",
    "import numpy as np\n",
    "import seaborn as sns\n",
    "import matplotlib as mpl\n",
    "import matplotlib.pyplot as plt\n",
    "%matplotlib inline"
   ]
  },
  {
   "cell_type": "code",
   "execution_count": 2,
   "metadata": {
    "collapsed": false
   },
   "outputs": [
    {
     "data": {
      "text/html": [
       "<div>\n",
       "<table border=\"1\" class=\"dataframe\">\n",
       "  <thead>\n",
       "    <tr style=\"text-align: right;\">\n",
       "      <th></th>\n",
       "      <th>messageid</th>\n",
       "      <th>tripindex</th>\n",
       "      <th>received</th>\n",
       "      <th>currency</th>\n",
       "      <th>total</th>\n",
       "      <th>tax</th>\n",
       "      <th>surcharge</th>\n",
       "      <th>source</th>\n",
       "      <th>merchant</th>\n",
       "      <th>majorcarrierid</th>\n",
       "      <th>...</th>\n",
       "      <th>refundable</th>\n",
       "      <th>triptimestamp</th>\n",
       "      <th>receiveddate</th>\n",
       "      <th>received_odate</th>\n",
       "      <th>departure_odate</th>\n",
       "      <th>return_ddate</th>\n",
       "      <th>los2</th>\n",
       "      <th>departure_dow</th>\n",
       "      <th>return_dow</th>\n",
       "      <th>includes_sns</th>\n",
       "    </tr>\n",
       "  </thead>\n",
       "  <tbody>\n",
       "    <tr>\n",
       "      <th>0</th>\n",
       "      <td>f4f57b70aaf2f56600000141d88ccbb0294a88500186aea5</td>\n",
       "      <td>12</td>\n",
       "      <td>1382317607</td>\n",
       "      <td>USD</td>\n",
       "      <td>631.45</td>\n",
       "      <td>123.45</td>\n",
       "      <td>0.0</td>\n",
       "      <td>Sabre</td>\n",
       "      <td>TCY</td>\n",
       "      <td>US</td>\n",
       "      <td>...</td>\n",
       "      <td>False</td>\n",
       "      <td>1382317607</td>\n",
       "      <td>20131021</td>\n",
       "      <td>2013-10-20</td>\n",
       "      <td>2014-03-14</td>\n",
       "      <td>2014-03-22</td>\n",
       "      <td>8</td>\n",
       "      <td>5</td>\n",
       "      <td>6</td>\n",
       "      <td>1</td>\n",
       "    </tr>\n",
       "    <tr>\n",
       "      <th>1</th>\n",
       "      <td>f4f57b70aaf2f56600000141d88ccbb0294a88500186aea5</td>\n",
       "      <td>11</td>\n",
       "      <td>1382317607</td>\n",
       "      <td>USD</td>\n",
       "      <td>632.95</td>\n",
       "      <td>124.95</td>\n",
       "      <td>0.0</td>\n",
       "      <td>Sabre</td>\n",
       "      <td>TCY</td>\n",
       "      <td>US</td>\n",
       "      <td>...</td>\n",
       "      <td>False</td>\n",
       "      <td>1382317607</td>\n",
       "      <td>20131021</td>\n",
       "      <td>2013-10-20</td>\n",
       "      <td>2014-03-14</td>\n",
       "      <td>2014-03-22</td>\n",
       "      <td>8</td>\n",
       "      <td>5</td>\n",
       "      <td>6</td>\n",
       "      <td>1</td>\n",
       "    </tr>\n",
       "    <tr>\n",
       "      <th>2</th>\n",
       "      <td>f4f57b70aaf2f56600000141d88ccbb0294a88500186aea5</td>\n",
       "      <td>10</td>\n",
       "      <td>1382317607</td>\n",
       "      <td>USD</td>\n",
       "      <td>620.95</td>\n",
       "      <td>124.95</td>\n",
       "      <td>0.0</td>\n",
       "      <td>Sabre</td>\n",
       "      <td>TCY</td>\n",
       "      <td>B6</td>\n",
       "      <td>...</td>\n",
       "      <td>False</td>\n",
       "      <td>1382317607</td>\n",
       "      <td>20131021</td>\n",
       "      <td>2013-10-20</td>\n",
       "      <td>2014-03-14</td>\n",
       "      <td>2014-03-22</td>\n",
       "      <td>8</td>\n",
       "      <td>5</td>\n",
       "      <td>6</td>\n",
       "      <td>1</td>\n",
       "    </tr>\n",
       "    <tr>\n",
       "      <th>3</th>\n",
       "      <td>f4f57b70aaf2f56600000141d88ccbb0294a88500186aea5</td>\n",
       "      <td>9</td>\n",
       "      <td>1382317607</td>\n",
       "      <td>USD</td>\n",
       "      <td>632.95</td>\n",
       "      <td>124.95</td>\n",
       "      <td>0.0</td>\n",
       "      <td>Sabre</td>\n",
       "      <td>TCY</td>\n",
       "      <td>US</td>\n",
       "      <td>...</td>\n",
       "      <td>False</td>\n",
       "      <td>1382317607</td>\n",
       "      <td>20131021</td>\n",
       "      <td>2013-10-20</td>\n",
       "      <td>2014-03-14</td>\n",
       "      <td>2014-03-22</td>\n",
       "      <td>8</td>\n",
       "      <td>5</td>\n",
       "      <td>6</td>\n",
       "      <td>1</td>\n",
       "    </tr>\n",
       "    <tr>\n",
       "      <th>4</th>\n",
       "      <td>f4f57b70aaf2f56600000141d88ccbb0294a88500186aea5</td>\n",
       "      <td>8</td>\n",
       "      <td>1382317607</td>\n",
       "      <td>USD</td>\n",
       "      <td>565.95</td>\n",
       "      <td>124.95</td>\n",
       "      <td>0.0</td>\n",
       "      <td>Sabre</td>\n",
       "      <td>TCY</td>\n",
       "      <td>US</td>\n",
       "      <td>...</td>\n",
       "      <td>False</td>\n",
       "      <td>1382317607</td>\n",
       "      <td>20131021</td>\n",
       "      <td>2013-10-20</td>\n",
       "      <td>2014-03-14</td>\n",
       "      <td>2014-03-22</td>\n",
       "      <td>8</td>\n",
       "      <td>5</td>\n",
       "      <td>6</td>\n",
       "      <td>1</td>\n",
       "    </tr>\n",
       "  </tbody>\n",
       "</table>\n",
       "<p>5 rows × 31 columns</p>\n",
       "</div>"
      ],
      "text/plain": [
       "                                          messageid  tripindex    received  \\\n",
       "0  f4f57b70aaf2f56600000141d88ccbb0294a88500186aea5         12  1382317607   \n",
       "1  f4f57b70aaf2f56600000141d88ccbb0294a88500186aea5         11  1382317607   \n",
       "2  f4f57b70aaf2f56600000141d88ccbb0294a88500186aea5         10  1382317607   \n",
       "3  f4f57b70aaf2f56600000141d88ccbb0294a88500186aea5          9  1382317607   \n",
       "4  f4f57b70aaf2f56600000141d88ccbb0294a88500186aea5          8  1382317607   \n",
       "\n",
       "  currency   total     tax  surcharge source merchant majorcarrierid  \\\n",
       "0      USD  631.45  123.45        0.0  Sabre      TCY             US   \n",
       "1      USD  632.95  124.95        0.0  Sabre      TCY             US   \n",
       "2      USD  620.95  124.95        0.0  Sabre      TCY             B6   \n",
       "3      USD  632.95  124.95        0.0  Sabre      TCY             US   \n",
       "4      USD  565.95  124.95        0.0  Sabre      TCY             US   \n",
       "\n",
       "      ...      refundable triptimestamp  receiveddate  received_odate  \\\n",
       "0     ...           False    1382317607      20131021      2013-10-20   \n",
       "1     ...           False    1382317607      20131021      2013-10-20   \n",
       "2     ...           False    1382317607      20131021      2013-10-20   \n",
       "3     ...           False    1382317607      20131021      2013-10-20   \n",
       "4     ...           False    1382317607      20131021      2013-10-20   \n",
       "\n",
       "   departure_odate  return_ddate  los2  departure_dow  return_dow includes_sns  \n",
       "0       2014-03-14    2014-03-22     8              5           6            1  \n",
       "1       2014-03-14    2014-03-22     8              5           6            1  \n",
       "2       2014-03-14    2014-03-22     8              5           6            1  \n",
       "3       2014-03-14    2014-03-22     8              5           6            1  \n",
       "4       2014-03-14    2014-03-22     8              5           6            1  \n",
       "\n",
       "[5 rows x 31 columns]"
      ]
     },
     "execution_count": 2,
     "metadata": {},
     "output_type": "execute_result"
    }
   ],
   "source": [
    "# I import the file with data\n",
    "\n",
    "flights = pd.read_csv(\"BOS_CUN_trips1M.csv\",)\n",
    "\n",
    "flights.head()"
   ]
  },
  {
   "cell_type": "code",
   "execution_count": 3,
   "metadata": {
    "collapsed": false
   },
   "outputs": [
    {
     "data": {
      "text/plain": [
       "<matplotlib.axes._subplots.AxesSubplot at 0x123404c10>"
      ]
     },
     "execution_count": 3,
     "metadata": {},
     "output_type": "execute_result"
    },
    {
     "data": {
      "image/png": "[encoded data removed]",
      "text/plain": [
       "<matplotlib.figure.Figure at 0x116322990>"
      ]
     },
     "metadata": {},
     "output_type": "display_data"
    }
   ],
   "source": [
    "# I now want to do a bloxplot for each combination of outbound stops and returnstops\n",
    "\n",
    "sns.boxplot(flights['outboundstops'], flights['total'])"
   ]
  },
  {
   "cell_type": "code",
   "execution_count": 4,
   "metadata": {
    "collapsed": false
   },
   "outputs": [
    {
     "data": {
      "text/plain": [
       "<matplotlib.axes._subplots.AxesSubplot at 0x123404f10>"
      ]
     },
     "execution_count": 4,
     "metadata": {},
     "output_type": "execute_result"
    },
    {
     "data": {
      "image/png": "[encoded data removed]",
      "text/plain": [
       "<matplotlib.figure.Figure at 0x1173dadd0>"
      ]
     },
     "metadata": {},
     "output_type": "display_data"
    }
   ],
   "source": [
    "# I now want to do a bloxplot for each combination of outbound stops and returnstops\n",
    "\n",
    "sns.boxplot(flights['returnstops'], flights['total'])"
   ]
  },
  {
   "cell_type": "code",
   "execution_count": 5,
   "metadata": {
    "collapsed": false
   },
   "outputs": [
    {
     "data": {
      "text/html": [
       "<div>\n",
       "<table border=\"1\" class=\"dataframe\">\n",
       "  <thead>\n",
       "    <tr style=\"text-align: right;\">\n",
       "      <th></th>\n",
       "      <th></th>\n",
       "      <th>total</th>\n",
       "    </tr>\n",
       "    <tr>\n",
       "      <th>outboundstops</th>\n",
       "      <th>returnstops</th>\n",
       "      <th></th>\n",
       "    </tr>\n",
       "  </thead>\n",
       "  <tbody>\n",
       "    <tr>\n",
       "      <th rowspan=\"3\" valign=\"top\">0</th>\n",
       "      <th>0</th>\n",
       "      <td>956.847618</td>\n",
       "    </tr>\n",
       "    <tr>\n",
       "      <th>1</th>\n",
       "      <td>826.761802</td>\n",
       "    </tr>\n",
       "    <tr>\n",
       "      <th>2</th>\n",
       "      <td>775.938667</td>\n",
       "    </tr>\n",
       "    <tr>\n",
       "      <th rowspan=\"4\" valign=\"top\">1</th>\n",
       "      <th>0</th>\n",
       "      <td>781.470335</td>\n",
       "    </tr>\n",
       "    <tr>\n",
       "      <th>1</th>\n",
       "      <td>651.233799</td>\n",
       "    </tr>\n",
       "    <tr>\n",
       "      <th>2</th>\n",
       "      <td>638.635024</td>\n",
       "    </tr>\n",
       "    <tr>\n",
       "      <th>3</th>\n",
       "      <td>489.361429</td>\n",
       "    </tr>\n",
       "    <tr>\n",
       "      <th rowspan=\"4\" valign=\"top\">2</th>\n",
       "      <th>0</th>\n",
       "      <td>758.911642</td>\n",
       "    </tr>\n",
       "    <tr>\n",
       "      <th>1</th>\n",
       "      <td>635.264192</td>\n",
       "    </tr>\n",
       "    <tr>\n",
       "      <th>2</th>\n",
       "      <td>611.120183</td>\n",
       "    </tr>\n",
       "    <tr>\n",
       "      <th>3</th>\n",
       "      <td>470.450000</td>\n",
       "    </tr>\n",
       "    <tr>\n",
       "      <th rowspan=\"3\" valign=\"top\">3</th>\n",
       "      <th>0</th>\n",
       "      <td>768.576612</td>\n",
       "    </tr>\n",
       "    <tr>\n",
       "      <th>1</th>\n",
       "      <td>726.988780</td>\n",
       "    </tr>\n",
       "    <tr>\n",
       "      <th>2</th>\n",
       "      <td>647.720327</td>\n",
       "    </tr>\n",
       "  </tbody>\n",
       "</table>\n",
       "</div>"
      ],
      "text/plain": [
       "                                total\n",
       "outboundstops returnstops            \n",
       "0             0            956.847618\n",
       "              1            826.761802\n",
       "              2            775.938667\n",
       "1             0            781.470335\n",
       "              1            651.233799\n",
       "              2            638.635024\n",
       "              3            489.361429\n",
       "2             0            758.911642\n",
       "              1            635.264192\n",
       "              2            611.120183\n",
       "              3            470.450000\n",
       "3             0            768.576612\n",
       "              1            726.988780\n",
       "              2            647.720327"
      ]
     },
     "execution_count": 5,
     "metadata": {},
     "output_type": "execute_result"
    }
   ],
   "source": [
    "# I want to group by both the number of outbound stops and return stops. I then find mean prices.\n",
    "\n",
    "groupedflights = flights.groupby(['outboundstops', 'returnstops']).mean()\n",
    "\n",
    "groupedflights = pd.DataFrame(groupedflights['total'])\n",
    "\n",
    "groupedflights\n",
    "# Again, I'm only interested in the 'total' column."
   ]
  },
  {
   "cell_type": "code",
   "execution_count": 9,
   "metadata": {
    "collapsed": false
   },
   "outputs": [
    {
     "data": {
      "text/html": [
       "<div>\n",
       "<table border=\"1\" class=\"dataframe\">\n",
       "  <thead>\n",
       "    <tr style=\"text-align: right;\">\n",
       "      <th>returnstops</th>\n",
       "      <th>0</th>\n",
       "      <th>1</th>\n",
       "      <th>2</th>\n",
       "      <th>3</th>\n",
       "    </tr>\n",
       "    <tr>\n",
       "      <th>outboundstops</th>\n",
       "      <th></th>\n",
       "      <th></th>\n",
       "      <th></th>\n",
       "      <th></th>\n",
       "    </tr>\n",
       "  </thead>\n",
       "  <tbody>\n",
       "    <tr>\n",
       "      <th>0</th>\n",
       "      <td>956.847618</td>\n",
       "      <td>826.761802</td>\n",
       "      <td>775.938667</td>\n",
       "      <td>NaN</td>\n",
       "    </tr>\n",
       "    <tr>\n",
       "      <th>1</th>\n",
       "      <td>781.470335</td>\n",
       "      <td>651.233799</td>\n",
       "      <td>638.635024</td>\n",
       "      <td>489.361429</td>\n",
       "    </tr>\n",
       "    <tr>\n",
       "      <th>2</th>\n",
       "      <td>758.911642</td>\n",
       "      <td>635.264192</td>\n",
       "      <td>611.120183</td>\n",
       "      <td>470.450000</td>\n",
       "    </tr>\n",
       "    <tr>\n",
       "      <th>3</th>\n",
       "      <td>768.576612</td>\n",
       "      <td>726.988780</td>\n",
       "      <td>647.720327</td>\n",
       "      <td>NaN</td>\n",
       "    </tr>\n",
       "  </tbody>\n",
       "</table>\n",
       "</div>"
      ],
      "text/plain": [
       "returnstops             0           1           2           3\n",
       "outboundstops                                                \n",
       "0              956.847618  826.761802  775.938667         NaN\n",
       "1              781.470335  651.233799  638.635024  489.361429\n",
       "2              758.911642  635.264192  611.120183  470.450000\n",
       "3              768.576612  726.988780  647.720327         NaN"
      ]
     },
     "execution_count": 9,
     "metadata": {},
     "output_type": "execute_result"
    }
   ],
   "source": [
    "# I want to pivot this table. First I need to do export-import\n",
    "\n",
    "groupedflights.to_csv(\"number_of_stopovers.csv\")\n",
    "\n",
    "number_of_stopovers = pd.read_csv(\"number_of_stopovers.csv\")\n",
    "\n",
    "number_of_stopoverspiv = number_of_stopovers.pivot(\"outboundstops\", \"returnstops\", \"total\")\n",
    "\n",
    "number_of_stopoverspiv"
   ]
  },
  {
   "cell_type": "code",
   "execution_count": 10,
   "metadata": {
    "collapsed": true
   },
   "outputs": [],
   "source": [
    "# I also want to export this table now.\n",
    "\n",
    "number_of_stopoverspiv.to_csv(\"numberofstopovers_pivot.csv\")"
   ]
  },
  {
   "cell_type": "code",
   "execution_count": null,
   "metadata": {
    "collapsed": true
   },
   "outputs": [],
   "source": [
    "# We can see that on average, a trip with both no outbound stops and no return stops is the most expensive.\n",
    "# This is not surprising\n",
    "# We can also see that the cheapest flight combination is with two out bounds tops and 3 return stops."
   ]
  }
 ],
 "metadata": {
  "kernelspec": {
   "display_name": "Python 2",
   "language": "python",
   "name": "python2"
  },
  "language_info": {
   "codemirror_mode": {
    "name": "ipython",
    "version": 2
   },
   "file_extension": ".py",
   "mimetype": "text/x-python",
   "name": "python",
   "nbconvert_exporter": "python",
   "pygments_lexer": "ipython2",
   "version": "2.7.11"
  }
 },
 "nbformat": 4,
 "nbformat_minor": 0
}
