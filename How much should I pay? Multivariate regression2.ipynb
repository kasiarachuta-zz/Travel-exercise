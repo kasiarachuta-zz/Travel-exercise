{
 "cells": [
  {
   "cell_type": "code",
   "execution_count": 1,
   "metadata": {
    "collapsed": true
   },
   "outputs": [],
   "source": [
    "import pandas as pd\n",
    "import statsmodels.api as sm"
   ]
  },
  {
   "cell_type": "code",
   "execution_count": 2,
   "metadata": {
    "collapsed": false
   },
   "outputs": [
    {
     "data": {
      "text/plain": [
       "Index([u'messageid', u'tripindex', u'received', u'currency', u'total', u'tax',\n",
       "       u'surcharge', u'source', u'merchant', u'majorcarrierid', u'origin',\n",
       "       u'destination', u'departure', u'return', u'outbounddurationminutes',\n",
       "       u'outboundstops', u'returndurationminutes', u'returnstops',\n",
       "       u'availableseats', u'cabinclass', u'paxtype', u'refundable',\n",
       "       u'triptimestamp', u'receiveddate', u'received_odate',\n",
       "       u'departure_odate', u'return_ddate', u'los2', u'departure_dow',\n",
       "       u'return_dow', u'includes_sns'],\n",
       "      dtype='object')"
      ]
     },
     "execution_count": 2,
     "metadata": {},
     "output_type": "execute_result"
    }
   ],
   "source": [
    "# I import the file with data\n",
    "\n",
    "flights = pd.read_csv(\"BOS_CUN_trips1M.csv\",)\n",
    "\n",
    "flights.columns"
   ]
  },
  {
   "cell_type": "code",
   "execution_count": 8,
   "metadata": {
    "collapsed": false
   },
   "outputs": [
    {
     "data": {
      "text/html": [
       "<table class=\"simpletable\">\n",
       "<caption>OLS Regression Results</caption>\n",
       "<tr>\n",
       "  <th>Dep. Variable:</th>          <td>total</td>      <th>  R-squared:         </th>  <td>   0.095</td>  \n",
       "</tr>\n",
       "<tr>\n",
       "  <th>Model:</th>                   <td>OLS</td>       <th>  Adj. R-squared:    </th>  <td>   0.095</td>  \n",
       "</tr>\n",
       "<tr>\n",
       "  <th>Method:</th>             <td>Least Squares</td>  <th>  F-statistic:       </th>  <td>1.807e+04</td> \n",
       "</tr>\n",
       "<tr>\n",
       "  <th>Date:</th>             <td>Sun, 03 Apr 2016</td> <th>  Prob (F-statistic):</th>   <td>  0.00</td>   \n",
       "</tr>\n",
       "<tr>\n",
       "  <th>Time:</th>                 <td>15:47:10</td>     <th>  Log-Likelihood:    </th> <td>-8.4160e+06</td>\n",
       "</tr>\n",
       "<tr>\n",
       "  <th>No. Observations:</th>      <td>1202445</td>     <th>  AIC:               </th>  <td>1.683e+07</td> \n",
       "</tr>\n",
       "<tr>\n",
       "  <th>Df Residuals:</th>          <td>1202437</td>     <th>  BIC:               </th>  <td>1.683e+07</td> \n",
       "</tr>\n",
       "<tr>\n",
       "  <th>Df Model:</th>              <td>     7</td>      <th>                     </th>      <td> </td>     \n",
       "</tr>\n",
       "<tr>\n",
       "  <th>Covariance Type:</th>      <td>nonrobust</td>    <th>                     </th>      <td> </td>     \n",
       "</tr>\n",
       "</table>\n",
       "<table class=\"simpletable\">\n",
       "<tr>\n",
       "             <td></td>                <th>coef</th>     <th>std err</th>      <th>t</th>      <th>P>|t|</th> <th>[95.0% Conf. Int.]</th> \n",
       "</tr>\n",
       "<tr>\n",
       "  <th>const</th>                   <td>  538.9947</td> <td>    5.725</td> <td>   94.152</td> <td> 0.000</td> <td>  527.774   550.215</td>\n",
       "</tr>\n",
       "<tr>\n",
       "  <th>majorcarrierid</th>          <td>   -8.9297</td> <td>    0.056</td> <td> -159.226</td> <td> 0.000</td> <td>   -9.040    -8.820</td>\n",
       "</tr>\n",
       "<tr>\n",
       "  <th>cabinclass</th>              <td>  234.9498</td> <td>    5.573</td> <td>   42.160</td> <td> 0.000</td> <td>  224.027   245.872</td>\n",
       "</tr>\n",
       "<tr>\n",
       "  <th>los2</th>                    <td>    0.6217</td> <td>    0.040</td> <td>   15.628</td> <td> 0.000</td> <td>    0.544     0.700</td>\n",
       "</tr>\n",
       "<tr>\n",
       "  <th>availableseats</th>          <td>  -14.2420</td> <td>    0.092</td> <td> -155.389</td> <td> 0.000</td> <td>  -14.422   -14.062</td>\n",
       "</tr>\n",
       "<tr>\n",
       "  <th>source</th>                  <td>  249.7744</td> <td>    0.982</td> <td>  254.377</td> <td> 0.000</td> <td>  247.850   251.699</td>\n",
       "</tr>\n",
       "<tr>\n",
       "  <th>outbounddurationminutes</th> <td>   -0.1807</td> <td>    0.002</td> <td>  -91.747</td> <td> 0.000</td> <td>   -0.185    -0.177</td>\n",
       "</tr>\n",
       "<tr>\n",
       "  <th>returndurationminutes</th>   <td>   -0.2225</td> <td>    0.002</td> <td> -116.512</td> <td> 0.000</td> <td>   -0.226    -0.219</td>\n",
       "</tr>\n",
       "</table>\n",
       "<table class=\"simpletable\">\n",
       "<tr>\n",
       "  <th>Omnibus:</th>       <td>751407.396</td> <th>  Durbin-Watson:     </th>   <td>   0.229</td>  \n",
       "</tr>\n",
       "<tr>\n",
       "  <th>Prob(Omnibus):</th>   <td> 0.000</td>   <th>  Jarque-Bera (JB):  </th> <td>37991250.111</td>\n",
       "</tr>\n",
       "<tr>\n",
       "  <th>Skew:</th>            <td> 2.353</td>   <th>  Prob(JB):          </th>   <td>    0.00</td>  \n",
       "</tr>\n",
       "<tr>\n",
       "  <th>Kurtosis:</th>        <td>30.132</td>   <th>  Cond. No.          </th>   <td>2.16e+04</td>  \n",
       "</tr>\n",
       "</table>"
      ],
      "text/plain": [
       "<class 'statsmodels.iolib.summary.Summary'>\n",
       "\"\"\"\n",
       "                            OLS Regression Results                            \n",
       "==============================================================================\n",
       "Dep. Variable:                  total   R-squared:                       0.095\n",
       "Model:                            OLS   Adj. R-squared:                  0.095\n",
       "Method:                 Least Squares   F-statistic:                 1.807e+04\n",
       "Date:                Sun, 03 Apr 2016   Prob (F-statistic):               0.00\n",
       "Time:                        15:47:10   Log-Likelihood:            -8.4160e+06\n",
       "No. Observations:             1202445   AIC:                         1.683e+07\n",
       "Df Residuals:                 1202437   BIC:                         1.683e+07\n",
       "Df Model:                           7                                         \n",
       "Covariance Type:            nonrobust                                         \n",
       "===========================================================================================\n",
       "                              coef    std err          t      P>|t|      [95.0% Conf. Int.]\n",
       "-------------------------------------------------------------------------------------------\n",
       "const                     538.9947      5.725     94.152      0.000       527.774   550.215\n",
       "majorcarrierid             -8.9297      0.056   -159.226      0.000        -9.040    -8.820\n",
       "cabinclass                234.9498      5.573     42.160      0.000       224.027   245.872\n",
       "los2                        0.6217      0.040     15.628      0.000         0.544     0.700\n",
       "availableseats            -14.2420      0.092   -155.389      0.000       -14.422   -14.062\n",
       "source                    249.7744      0.982    254.377      0.000       247.850   251.699\n",
       "outbounddurationminutes    -0.1807      0.002    -91.747      0.000        -0.185    -0.177\n",
       "returndurationminutes      -0.2225      0.002   -116.512      0.000        -0.226    -0.219\n",
       "==============================================================================\n",
       "Omnibus:                   751407.396   Durbin-Watson:                   0.229\n",
       "Prob(Omnibus):                  0.000   Jarque-Bera (JB):         37991250.111\n",
       "Skew:                           2.353   Prob(JB):                         0.00\n",
       "Kurtosis:                      30.132   Cond. No.                     2.16e+04\n",
       "==============================================================================\n",
       "\n",
       "Warnings:\n",
       "[1] Standard Errors assume that the covariance matrix of the errors is correctly specified.\n",
       "[2] The condition number is large, 2.16e+04. This might indicate that there are\n",
       "strong multicollinearity or other numerical problems.\n",
       "\"\"\""
      ]
     },
     "execution_count": 8,
     "metadata": {},
     "output_type": "execute_result"
    }
   ],
   "source": [
    "# Now I want to write my model\n",
    "# This time I take into account source, outbounddurationminutes, outboundstops, returndurationminutes, returnstops.\n",
    "# Also I'm gonna looking if it's refundable\n",
    "# Available seats\n",
    "\n",
    "flights['majorcarrierid'] = pd.Categorical(flights.majorcarrierid).codes\n",
    "flights['cabinclass'] = pd.Categorical(flights.cabinclass).codes\n",
    "flights['source'] = pd.Categorical(flights.source).codes\n",
    "X = flights[['majorcarrierid', 'cabinclass', 'los2', 'availableseats', 'source', 'outbounddurationminutes', 'returndurationminutes']]\n",
    "y = flights[['total']]\n",
    "\n",
    "X1 = sm.add_constant(X)\n",
    "est = sm.OLS(y, X1).fit()\n",
    "\n",
    "est.summary()"
   ]
  }
 ],
 "metadata": {
  "kernelspec": {
   "display_name": "Python 2",
   "language": "python",
   "name": "python2"
  },
  "language_info": {
   "codemirror_mode": {
    "name": "ipython",
    "version": 2
   },
   "file_extension": ".py",
   "mimetype": "text/x-python",
   "name": "python",
   "nbconvert_exporter": "python",
   "pygments_lexer": "ipython2",
   "version": "2.7.11"
  }
 },
 "nbformat": 4,
 "nbformat_minor": 0
}
