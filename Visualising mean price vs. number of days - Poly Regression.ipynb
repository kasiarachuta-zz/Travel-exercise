{
 "cells": [
  {
   "cell_type": "code",
   "execution_count": 2,
   "metadata": {
    "collapsed": false
   },
   "outputs": [],
   "source": [
    "import pandas as pd\n",
    "import seaborn as sns\n",
    "import matplotlib as mpl\n",
    "import matplotlib.pyplot as plt\n",
    "%matplotlib inline \n",
    "from pylab import *"
   ]
  },
  {
   "cell_type": "code",
   "execution_count": 3,
   "metadata": {
    "collapsed": false
   },
   "outputs": [
    {
     "data": {
      "text/html": [
       "<div>\n",
       "<table border=\"1\" class=\"dataframe\">\n",
       "  <thead>\n",
       "    <tr style=\"text-align: right;\">\n",
       "      <th></th>\n",
       "      <th>number of days</th>\n",
       "      <th>total</th>\n",
       "    </tr>\n",
       "  </thead>\n",
       "  <tbody>\n",
       "    <tr>\n",
       "      <th>0</th>\n",
       "      <td>0</td>\n",
       "      <td>823.659760</td>\n",
       "    </tr>\n",
       "    <tr>\n",
       "      <th>1</th>\n",
       "      <td>1</td>\n",
       "      <td>719.816364</td>\n",
       "    </tr>\n",
       "    <tr>\n",
       "      <th>2</th>\n",
       "      <td>10</td>\n",
       "      <td>557.048289</td>\n",
       "    </tr>\n",
       "    <tr>\n",
       "      <th>3</th>\n",
       "      <td>100</td>\n",
       "      <td>700.417286</td>\n",
       "    </tr>\n",
       "    <tr>\n",
       "      <th>4</th>\n",
       "      <td>101</td>\n",
       "      <td>709.339975</td>\n",
       "    </tr>\n",
       "  </tbody>\n",
       "</table>\n",
       "</div>"
      ],
      "text/plain": [
       "   number of days       total\n",
       "0               0  823.659760\n",
       "1               1  719.816364\n",
       "2              10  557.048289\n",
       "3             100  700.417286\n",
       "4             101  709.339975"
      ]
     },
     "execution_count": 3,
     "metadata": {},
     "output_type": "execute_result"
    }
   ],
   "source": [
    "meanprice = pd.read_csv(\"meanprice-numberofdays.csv\")\n",
    "\n",
    "meanprice.head()"
   ]
  },
  {
   "cell_type": "code",
   "execution_count": 4,
   "metadata": {
    "collapsed": false
   },
   "outputs": [
    {
     "data": {
      "text/plain": [
       "number of days      int64\n",
       "total             float64\n",
       "dtype: object"
      ]
     },
     "execution_count": 4,
     "metadata": {},
     "output_type": "execute_result"
    }
   ],
   "source": [
    "meanprice.dtypes"
   ]
  },
  {
   "cell_type": "code",
   "execution_count": 5,
   "metadata": {
    "collapsed": false
   },
   "outputs": [
    {
     "data": {
      "text/html": [
       "<div>\n",
       "<table border=\"1\" class=\"dataframe\">\n",
       "  <thead>\n",
       "    <tr style=\"text-align: right;\">\n",
       "      <th></th>\n",
       "      <th>number of days</th>\n",
       "      <th>total</th>\n",
       "    </tr>\n",
       "  </thead>\n",
       "  <tbody>\n",
       "    <tr>\n",
       "      <th>0</th>\n",
       "      <td>0.0</td>\n",
       "      <td>823.659760</td>\n",
       "    </tr>\n",
       "    <tr>\n",
       "      <th>1</th>\n",
       "      <td>1.0</td>\n",
       "      <td>719.816364</td>\n",
       "    </tr>\n",
       "    <tr>\n",
       "      <th>2</th>\n",
       "      <td>10.0</td>\n",
       "      <td>557.048289</td>\n",
       "    </tr>\n",
       "    <tr>\n",
       "      <th>3</th>\n",
       "      <td>100.0</td>\n",
       "      <td>700.417286</td>\n",
       "    </tr>\n",
       "    <tr>\n",
       "      <th>4</th>\n",
       "      <td>101.0</td>\n",
       "      <td>709.339975</td>\n",
       "    </tr>\n",
       "    <tr>\n",
       "      <th>5</th>\n",
       "      <td>102.0</td>\n",
       "      <td>752.000382</td>\n",
       "    </tr>\n",
       "    <tr>\n",
       "      <th>6</th>\n",
       "      <td>103.0</td>\n",
       "      <td>665.697742</td>\n",
       "    </tr>\n",
       "    <tr>\n",
       "      <th>7</th>\n",
       "      <td>104.0</td>\n",
       "      <td>692.875960</td>\n",
       "    </tr>\n",
       "    <tr>\n",
       "      <th>8</th>\n",
       "      <td>105.0</td>\n",
       "      <td>776.395196</td>\n",
       "    </tr>\n",
       "    <tr>\n",
       "      <th>9</th>\n",
       "      <td>106.0</td>\n",
       "      <td>681.095412</td>\n",
       "    </tr>\n",
       "    <tr>\n",
       "      <th>10</th>\n",
       "      <td>107.0</td>\n",
       "      <td>604.875848</td>\n",
       "    </tr>\n",
       "    <tr>\n",
       "      <th>11</th>\n",
       "      <td>108.0</td>\n",
       "      <td>673.265509</td>\n",
       "    </tr>\n",
       "    <tr>\n",
       "      <th>12</th>\n",
       "      <td>109.0</td>\n",
       "      <td>681.124627</td>\n",
       "    </tr>\n",
       "    <tr>\n",
       "      <th>13</th>\n",
       "      <td>11.0</td>\n",
       "      <td>597.004150</td>\n",
       "    </tr>\n",
       "    <tr>\n",
       "      <th>14</th>\n",
       "      <td>110.0</td>\n",
       "      <td>647.658636</td>\n",
       "    </tr>\n",
       "    <tr>\n",
       "      <th>15</th>\n",
       "      <td>111.0</td>\n",
       "      <td>701.225782</td>\n",
       "    </tr>\n",
       "    <tr>\n",
       "      <th>16</th>\n",
       "      <td>112.0</td>\n",
       "      <td>765.345404</td>\n",
       "    </tr>\n",
       "    <tr>\n",
       "      <th>17</th>\n",
       "      <td>113.0</td>\n",
       "      <td>608.884859</td>\n",
       "    </tr>\n",
       "    <tr>\n",
       "      <th>18</th>\n",
       "      <td>114.0</td>\n",
       "      <td>669.975708</td>\n",
       "    </tr>\n",
       "    <tr>\n",
       "      <th>19</th>\n",
       "      <td>115.0</td>\n",
       "      <td>724.731285</td>\n",
       "    </tr>\n",
       "    <tr>\n",
       "      <th>20</th>\n",
       "      <td>116.0</td>\n",
       "      <td>708.681575</td>\n",
       "    </tr>\n",
       "    <tr>\n",
       "      <th>21</th>\n",
       "      <td>117.0</td>\n",
       "      <td>660.321959</td>\n",
       "    </tr>\n",
       "    <tr>\n",
       "      <th>22</th>\n",
       "      <td>118.0</td>\n",
       "      <td>585.782942</td>\n",
       "    </tr>\n",
       "    <tr>\n",
       "      <th>23</th>\n",
       "      <td>119.0</td>\n",
       "      <td>619.363632</td>\n",
       "    </tr>\n",
       "    <tr>\n",
       "      <th>24</th>\n",
       "      <td>12.0</td>\n",
       "      <td>579.220137</td>\n",
       "    </tr>\n",
       "    <tr>\n",
       "      <th>25</th>\n",
       "      <td>120.0</td>\n",
       "      <td>600.297978</td>\n",
       "    </tr>\n",
       "    <tr>\n",
       "      <th>26</th>\n",
       "      <td>121.0</td>\n",
       "      <td>593.213657</td>\n",
       "    </tr>\n",
       "    <tr>\n",
       "      <th>27</th>\n",
       "      <td>122.0</td>\n",
       "      <td>646.079986</td>\n",
       "    </tr>\n",
       "    <tr>\n",
       "      <th>28</th>\n",
       "      <td>123.0</td>\n",
       "      <td>564.255316</td>\n",
       "    </tr>\n",
       "    <tr>\n",
       "      <th>29</th>\n",
       "      <td>124.0</td>\n",
       "      <td>648.456053</td>\n",
       "    </tr>\n",
       "    <tr>\n",
       "      <th>...</th>\n",
       "      <td>...</td>\n",
       "      <td>...</td>\n",
       "    </tr>\n",
       "    <tr>\n",
       "      <th>310</th>\n",
       "      <td>72.0</td>\n",
       "      <td>839.125483</td>\n",
       "    </tr>\n",
       "    <tr>\n",
       "      <th>311</th>\n",
       "      <td>73.0</td>\n",
       "      <td>752.053212</td>\n",
       "    </tr>\n",
       "    <tr>\n",
       "      <th>312</th>\n",
       "      <td>74.0</td>\n",
       "      <td>787.810660</td>\n",
       "    </tr>\n",
       "    <tr>\n",
       "      <th>313</th>\n",
       "      <td>75.0</td>\n",
       "      <td>803.485804</td>\n",
       "    </tr>\n",
       "    <tr>\n",
       "      <th>314</th>\n",
       "      <td>76.0</td>\n",
       "      <td>855.507935</td>\n",
       "    </tr>\n",
       "    <tr>\n",
       "      <th>315</th>\n",
       "      <td>77.0</td>\n",
       "      <td>805.160020</td>\n",
       "    </tr>\n",
       "    <tr>\n",
       "      <th>316</th>\n",
       "      <td>78.0</td>\n",
       "      <td>778.443229</td>\n",
       "    </tr>\n",
       "    <tr>\n",
       "      <th>317</th>\n",
       "      <td>79.0</td>\n",
       "      <td>843.754695</td>\n",
       "    </tr>\n",
       "    <tr>\n",
       "      <th>318</th>\n",
       "      <td>8.0</td>\n",
       "      <td>589.310353</td>\n",
       "    </tr>\n",
       "    <tr>\n",
       "      <th>319</th>\n",
       "      <td>80.0</td>\n",
       "      <td>752.574443</td>\n",
       "    </tr>\n",
       "    <tr>\n",
       "      <th>320</th>\n",
       "      <td>81.0</td>\n",
       "      <td>741.208346</td>\n",
       "    </tr>\n",
       "    <tr>\n",
       "      <th>321</th>\n",
       "      <td>82.0</td>\n",
       "      <td>808.737717</td>\n",
       "    </tr>\n",
       "    <tr>\n",
       "      <th>322</th>\n",
       "      <td>83.0</td>\n",
       "      <td>803.477079</td>\n",
       "    </tr>\n",
       "    <tr>\n",
       "      <th>323</th>\n",
       "      <td>84.0</td>\n",
       "      <td>786.313176</td>\n",
       "    </tr>\n",
       "    <tr>\n",
       "      <th>324</th>\n",
       "      <td>85.0</td>\n",
       "      <td>787.049146</td>\n",
       "    </tr>\n",
       "    <tr>\n",
       "      <th>325</th>\n",
       "      <td>86.0</td>\n",
       "      <td>730.630325</td>\n",
       "    </tr>\n",
       "    <tr>\n",
       "      <th>326</th>\n",
       "      <td>87.0</td>\n",
       "      <td>719.866917</td>\n",
       "    </tr>\n",
       "    <tr>\n",
       "      <th>327</th>\n",
       "      <td>88.0</td>\n",
       "      <td>735.195445</td>\n",
       "    </tr>\n",
       "    <tr>\n",
       "      <th>328</th>\n",
       "      <td>89.0</td>\n",
       "      <td>666.286071</td>\n",
       "    </tr>\n",
       "    <tr>\n",
       "      <th>329</th>\n",
       "      <td>9.0</td>\n",
       "      <td>544.321879</td>\n",
       "    </tr>\n",
       "    <tr>\n",
       "      <th>330</th>\n",
       "      <td>90.0</td>\n",
       "      <td>727.281156</td>\n",
       "    </tr>\n",
       "    <tr>\n",
       "      <th>331</th>\n",
       "      <td>91.0</td>\n",
       "      <td>715.401123</td>\n",
       "    </tr>\n",
       "    <tr>\n",
       "      <th>332</th>\n",
       "      <td>92.0</td>\n",
       "      <td>738.859804</td>\n",
       "    </tr>\n",
       "    <tr>\n",
       "      <th>333</th>\n",
       "      <td>93.0</td>\n",
       "      <td>660.190529</td>\n",
       "    </tr>\n",
       "    <tr>\n",
       "      <th>334</th>\n",
       "      <td>94.0</td>\n",
       "      <td>702.535893</td>\n",
       "    </tr>\n",
       "    <tr>\n",
       "      <th>335</th>\n",
       "      <td>95.0</td>\n",
       "      <td>633.727878</td>\n",
       "    </tr>\n",
       "    <tr>\n",
       "      <th>336</th>\n",
       "      <td>96.0</td>\n",
       "      <td>631.942783</td>\n",
       "    </tr>\n",
       "    <tr>\n",
       "      <th>337</th>\n",
       "      <td>97.0</td>\n",
       "      <td>655.458096</td>\n",
       "    </tr>\n",
       "    <tr>\n",
       "      <th>338</th>\n",
       "      <td>98.0</td>\n",
       "      <td>674.432476</td>\n",
       "    </tr>\n",
       "    <tr>\n",
       "      <th>339</th>\n",
       "      <td>99.0</td>\n",
       "      <td>664.156122</td>\n",
       "    </tr>\n",
       "  </tbody>\n",
       "</table>\n",
       "<p>340 rows × 2 columns</p>\n",
       "</div>"
      ],
      "text/plain": [
       "     number of days       total\n",
       "0               0.0  823.659760\n",
       "1               1.0  719.816364\n",
       "2              10.0  557.048289\n",
       "3             100.0  700.417286\n",
       "4             101.0  709.339975\n",
       "5             102.0  752.000382\n",
       "6             103.0  665.697742\n",
       "7             104.0  692.875960\n",
       "8             105.0  776.395196\n",
       "9             106.0  681.095412\n",
       "10            107.0  604.875848\n",
       "11            108.0  673.265509\n",
       "12            109.0  681.124627\n",
       "13             11.0  597.004150\n",
       "14            110.0  647.658636\n",
       "15            111.0  701.225782\n",
       "16            112.0  765.345404\n",
       "17            113.0  608.884859\n",
       "18            114.0  669.975708\n",
       "19            115.0  724.731285\n",
       "20            116.0  708.681575\n",
       "21            117.0  660.321959\n",
       "22            118.0  585.782942\n",
       "23            119.0  619.363632\n",
       "24             12.0  579.220137\n",
       "25            120.0  600.297978\n",
       "26            121.0  593.213657\n",
       "27            122.0  646.079986\n",
       "28            123.0  564.255316\n",
       "29            124.0  648.456053\n",
       "..              ...         ...\n",
       "310            72.0  839.125483\n",
       "311            73.0  752.053212\n",
       "312            74.0  787.810660\n",
       "313            75.0  803.485804\n",
       "314            76.0  855.507935\n",
       "315            77.0  805.160020\n",
       "316            78.0  778.443229\n",
       "317            79.0  843.754695\n",
       "318             8.0  589.310353\n",
       "319            80.0  752.574443\n",
       "320            81.0  741.208346\n",
       "321            82.0  808.737717\n",
       "322            83.0  803.477079\n",
       "323            84.0  786.313176\n",
       "324            85.0  787.049146\n",
       "325            86.0  730.630325\n",
       "326            87.0  719.866917\n",
       "327            88.0  735.195445\n",
       "328            89.0  666.286071\n",
       "329             9.0  544.321879\n",
       "330            90.0  727.281156\n",
       "331            91.0  715.401123\n",
       "332            92.0  738.859804\n",
       "333            93.0  660.190529\n",
       "334            94.0  702.535893\n",
       "335            95.0  633.727878\n",
       "336            96.0  631.942783\n",
       "337            97.0  655.458096\n",
       "338            98.0  674.432476\n",
       "339            99.0  664.156122\n",
       "\n",
       "[340 rows x 2 columns]"
      ]
     },
     "execution_count": 5,
     "metadata": {},
     "output_type": "execute_result"
    }
   ],
   "source": [
    "# I convert strings to float - number of days should be float\n",
    "\n",
    "meanprice['number of days'] = meanprice['number of days'].astype(float)\n",
    "\n",
    "meanprice"
   ]
  },
  {
   "cell_type": "code",
   "execution_count": 6,
   "metadata": {
    "collapsed": false
   },
   "outputs": [
    {
     "data": {
      "text/plain": [
       "<matplotlib.collections.PathCollection at 0x116526410>"
      ]
     },
     "execution_count": 6,
     "metadata": {},
     "output_type": "execute_result"
    },
    {
     "data": {
      "image/png": "[encoded data removed]",
      "text/plain": [
       "<matplotlib.figure.Figure at 0x103a67990>"
      ]
     },
     "metadata": {},
     "output_type": "display_data"
    }
   ],
   "source": [
    "# Let's plot the number of days before booking vs. the price.\n",
    "x = np.array(meanprice['number of days'])\n",
    "y = np.array(meanprice['total'])\n",
    "\n",
    "plt.scatter(x, y)"
   ]
  },
  {
   "cell_type": "code",
   "execution_count": 7,
   "metadata": {
    "collapsed": false
   },
   "outputs": [],
   "source": [
    "# Now I use the poly fit. I try with 4 degree.\n",
    "\n",
    "p4 = np.poly1d(np.polyfit(x, y, 4))"
   ]
  },
  {
   "cell_type": "code",
   "execution_count": 8,
   "metadata": {
    "collapsed": false
   },
   "outputs": [
    {
     "data": {
      "image/png": "[encoded data removed]",
      "text/plain": [
       "<matplotlib.figure.Figure at 0x11648ea50>"
      ]
     },
     "metadata": {},
     "output_type": "display_data"
    }
   ],
   "source": [
    "# I want to visualise this to see how good a fit it is.\n",
    "\n",
    "xp = np.linspace(0, 420)\n",
    "\n",
    "plt.scatter(x, y)\n",
    "plt.plot(xp, p4(xp), c='r')\n",
    "plt.show()"
   ]
  },
  {
   "cell_type": "code",
   "execution_count": 9,
   "metadata": {
    "collapsed": false
   },
   "outputs": [
    {
     "name": "stdout",
     "output_type": "stream",
     "text": [
      "0.257564655689\n"
     ]
    }
   ],
   "source": [
    "# I check the r_squared value to see how good a fit it is.\n",
    "\n",
    "from sklearn.metrics import r2_score\n",
    "\n",
    "r2 = r2_score(y, p4(x))\n",
    "\n",
    "print r2\n",
    "\n",
    "# The fit is pretty terrible."
   ]
  },
  {
   "cell_type": "code",
   "execution_count": 14,
   "metadata": {
    "collapsed": false
   },
   "outputs": [
    {
     "data": {
      "image/png": "[encoded data removed]",
      "text/plain": [
       "<matplotlib.figure.Figure at 0x117c6ca10>"
      ]
     },
     "metadata": {},
     "output_type": "display_data"
    }
   ],
   "source": [
    "# I now want to increase the number of polynomials to 8.\n",
    "\n",
    "p8 = np.poly1d(np.polyfit(x, y, 8))\n",
    "xp = np.linspace(0, 420)\n",
    "\n",
    "plt.scatter(x, y)\n",
    "plt.plot(xp, p8(xp), c='r')\n",
    "plt.savefig(\"eightdegreesplot.png\")\n",
    "plt.show()\n",
    "\n",
    "\n",
    "\n",
    "# This looks a lot beter - but the function really goes out of its way to accommodate the outlier at 400."
   ]
  },
  {
   "cell_type": "code",
   "execution_count": 14,
   "metadata": {
    "collapsed": false
   },
   "outputs": [
    {
     "name": "stdout",
     "output_type": "stream",
     "text": [
      "0.41846433889\n"
     ]
    }
   ],
   "source": [
    "# I check the R squared value again.\n",
    "\n",
    "r2 = r2_score(y, p8(x))\n",
    "\n",
    "print r2"
   ]
  },
  {
   "cell_type": "code",
   "execution_count": 15,
   "metadata": {
    "collapsed": false
   },
   "outputs": [
    {
     "data": {
      "image/png": "[encoded data removed]",
      "text/plain": [
       "<matplotlib.figure.Figure at 0x117e50ed0>"
      ]
     },
     "metadata": {},
     "output_type": "display_data"
    }
   ],
   "source": [
    "# I decrease the number to 6\n",
    "\n",
    "p6 = np.poly1d(np.polyfit(x, y, 6))\n",
    "xp = np.linspace(0, 420)\n",
    "\n",
    "plt.scatter(x, y)\n",
    "plt.plot(xp, p6(xp), c='r')\n",
    "plt.show()\n",
    "\n",
    "# This still looks pretty terible"
   ]
  },
  {
   "cell_type": "code",
   "execution_count": 16,
   "metadata": {
    "collapsed": false
   },
   "outputs": [
    {
     "data": {
      "image/png": "[encoded data removed]",
      "text/plain": [
       "<matplotlib.figure.Figure at 0x11799c390>"
      ]
     },
     "metadata": {},
     "output_type": "display_data"
    }
   ],
   "source": [
    "# Try 5\n",
    "p5 = np.poly1d(np.polyfit(x, y, 5))\n",
    "xp = np.linspace(0, 420)\n",
    "\n",
    "plt.scatter(x, y)\n",
    "plt.plot(xp, p5(xp), c='r')\n",
    "plt.show()\n",
    "\n",
    "# Pretty bad."
   ]
  },
  {
   "cell_type": "code",
   "execution_count": 17,
   "metadata": {
    "collapsed": false
   },
   "outputs": [
    {
     "data": {
      "image/png": "[encoded data removed]",
      "text/plain": [
       "<matplotlib.figure.Figure at 0x117f42fd0>"
      ]
     },
     "metadata": {},
     "output_type": "display_data"
    }
   ],
   "source": [
    "# Try 7\n",
    "\n",
    "p7 = np.poly1d(np.polyfit(x, y, 7))\n",
    "xp = np.linspace(0, 420)\n",
    "\n",
    "plt.scatter(x, y)\n",
    "plt.plot(xp, p7(xp), c='r')\n",
    "plt.show()\n",
    "\n",
    "# 7 doesn't look too bad. I want to check the R squared for it."
   ]
  },
  {
   "cell_type": "code",
   "execution_count": 21,
   "metadata": {
    "collapsed": false
   },
   "outputs": [
    {
     "name": "stdout",
     "output_type": "stream",
     "text": [
      "0.315234334007\n"
     ]
    }
   ],
   "source": [
    "r2 = r2_score(y, p7(x))\n",
    "\n",
    "print r2\n",
    "\n",
    "# The value for 8 is significantly better."
   ]
  },
  {
   "cell_type": "code",
   "execution_count": 20,
   "metadata": {
    "collapsed": false
   },
   "outputs": [
    {
     "data": {
      "image/png": "[encoded data removed]",
      "text/plain": [
       "<matplotlib.figure.Figure at 0x1175e1990>"
      ]
     },
     "metadata": {},
     "output_type": "display_data"
    }
   ],
   "source": [
    "# Maybe try 9.\n",
    "\n",
    "p9 = np.poly1d(np.polyfit(x, y, 9))\n",
    "xp = np.linspace(0, 420)\n",
    "\n",
    "plt.scatter(x, y)\n",
    "plt.plot(xp, p9(xp), c='r')\n",
    "plt.show()"
   ]
  },
  {
   "cell_type": "code",
   "execution_count": null,
   "metadata": {
    "collapsed": true
   },
   "outputs": [],
   "source": [
    "# 9 degrees doesn't look better than 8. I decide to stick to 8 degrees for the polynomial as I don't want to overfit."
   ]
  }
 ],
 "metadata": {
  "kernelspec": {
   "display_name": "Python 2",
   "language": "python",
   "name": "python2"
  },
  "language_info": {
   "codemirror_mode": {
    "name": "ipython",
    "version": 2
   },
   "file_extension": ".py",
   "mimetype": "text/x-python",
   "name": "python",
   "nbconvert_exporter": "python",
   "pygments_lexer": "ipython2",
   "version": "2.7.11"
  }
 },
 "nbformat": 4,
 "nbformat_minor": 0
}
