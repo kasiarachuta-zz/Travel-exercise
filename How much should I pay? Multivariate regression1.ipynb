{
 "cells": [
  {
   "cell_type": "code",
   "execution_count": 2,
   "metadata": {
    "collapsed": false
   },
   "outputs": [],
   "source": [
    "import pandas as pd\n",
    "import statsmodels.api as sm"
   ]
  },
  {
   "cell_type": "code",
   "execution_count": 4,
   "metadata": {
    "collapsed": false
   },
   "outputs": [
    {
     "data": {
      "text/plain": [
       "Index([u'messageid', u'tripindex', u'received', u'currency', u'total', u'tax',\n",
       "       u'surcharge', u'source', u'merchant', u'majorcarrierid', u'origin',\n",
       "       u'destination', u'departure', u'return', u'outbounddurationminutes',\n",
       "       u'outboundstops', u'returndurationminutes', u'returnstops',\n",
       "       u'availableseats', u'cabinclass', u'paxtype', u'refundable',\n",
       "       u'triptimestamp', u'receiveddate', u'received_odate',\n",
       "       u'departure_odate', u'return_ddate', u'los2', u'departure_dow',\n",
       "       u'return_dow', u'includes_sns'],\n",
       "      dtype='object')"
      ]
     },
     "execution_count": 4,
     "metadata": {},
     "output_type": "execute_result"
    }
   ],
   "source": [
    "# I import the file with data\n",
    "\n",
    "flights = pd.read_csv(\"BOS_CUN_trips1M.csv\",)\n",
    "\n",
    "flights.columns"
   ]
  },
  {
   "cell_type": "code",
   "execution_count": 10,
   "metadata": {
    "collapsed": false
   },
   "outputs": [
    {
     "data": {
      "text/html": [
       "<table class=\"simpletable\">\n",
       "<caption>OLS Regression Results</caption>\n",
       "<tr>\n",
       "  <th>Dep. Variable:</th>          <td>total</td>      <th>  R-squared:         </th>  <td>   0.015</td>  \n",
       "</tr>\n",
       "<tr>\n",
       "  <th>Model:</th>                   <td>OLS</td>       <th>  Adj. R-squared:    </th>  <td>   0.015</td>  \n",
       "</tr>\n",
       "<tr>\n",
       "  <th>Method:</th>             <td>Least Squares</td>  <th>  F-statistic:       </th>  <td>   5984.</td>  \n",
       "</tr>\n",
       "<tr>\n",
       "  <th>Date:</th>             <td>Sun, 03 Apr 2016</td> <th>  Prob (F-statistic):</th>   <td>  0.00</td>   \n",
       "</tr>\n",
       "<tr>\n",
       "  <th>Time:</th>                 <td>15:37:06</td>     <th>  Log-Likelihood:    </th> <td>-8.4672e+06</td>\n",
       "</tr>\n",
       "<tr>\n",
       "  <th>No. Observations:</th>      <td>1202445</td>     <th>  AIC:               </th>  <td>1.693e+07</td> \n",
       "</tr>\n",
       "<tr>\n",
       "  <th>Df Residuals:</th>          <td>1202441</td>     <th>  BIC:               </th>  <td>1.693e+07</td> \n",
       "</tr>\n",
       "<tr>\n",
       "  <th>Df Model:</th>              <td>     3</td>      <th>                     </th>      <td> </td>     \n",
       "</tr>\n",
       "<tr>\n",
       "  <th>Covariance Type:</th>      <td>nonrobust</td>    <th>                     </th>      <td> </td>     \n",
       "</tr>\n",
       "</table>\n",
       "<table class=\"simpletable\">\n",
       "<tr>\n",
       "         <td></td>           <th>coef</th>     <th>std err</th>      <th>t</th>      <th>P>|t|</th> <th>[95.0% Conf. Int.]</th> \n",
       "</tr>\n",
       "<tr>\n",
       "  <th>const</th>          <td>  476.7688</td> <td>    5.851</td> <td>   81.478</td> <td> 0.000</td> <td>  465.300   488.237</td>\n",
       "</tr>\n",
       "<tr>\n",
       "  <th>majorcarrierid</th> <td>   -7.0731</td> <td>    0.057</td> <td> -124.215</td> <td> 0.000</td> <td>   -7.185    -6.961</td>\n",
       "</tr>\n",
       "<tr>\n",
       "  <th>cabinclass</th>     <td>  260.9463</td> <td>    5.810</td> <td>   44.916</td> <td> 0.000</td> <td>  249.560   272.333</td>\n",
       "</tr>\n",
       "<tr>\n",
       "  <th>los2</th>           <td>   -0.7438</td> <td>    0.041</td> <td>  -18.148</td> <td> 0.000</td> <td>   -0.824    -0.663</td>\n",
       "</tr>\n",
       "</table>\n",
       "<table class=\"simpletable\">\n",
       "<tr>\n",
       "  <th>Omnibus:</th>       <td>649829.779</td> <th>  Durbin-Watson:     </th>   <td>   0.207</td>  \n",
       "</tr>\n",
       "<tr>\n",
       "  <th>Prob(Omnibus):</th>   <td> 0.000</td>   <th>  Jarque-Bera (JB):  </th> <td>17048605.778</td>\n",
       "</tr>\n",
       "<tr>\n",
       "  <th>Skew:</th>            <td> 2.084</td>   <th>  Prob(JB):          </th>   <td>    0.00</td>  \n",
       "</tr>\n",
       "<tr>\n",
       "  <th>Kurtosis:</th>        <td>20.970</td>   <th>  Cond. No.          </th>   <td>    402.</td>  \n",
       "</tr>\n",
       "</table>"
      ],
      "text/plain": [
       "<class 'statsmodels.iolib.summary.Summary'>\n",
       "\"\"\"\n",
       "                            OLS Regression Results                            \n",
       "==============================================================================\n",
       "Dep. Variable:                  total   R-squared:                       0.015\n",
       "Model:                            OLS   Adj. R-squared:                  0.015\n",
       "Method:                 Least Squares   F-statistic:                     5984.\n",
       "Date:                Sun, 03 Apr 2016   Prob (F-statistic):               0.00\n",
       "Time:                        15:37:06   Log-Likelihood:            -8.4672e+06\n",
       "No. Observations:             1202445   AIC:                         1.693e+07\n",
       "Df Residuals:                 1202441   BIC:                         1.693e+07\n",
       "Df Model:                           3                                         \n",
       "Covariance Type:            nonrobust                                         \n",
       "==================================================================================\n",
       "                     coef    std err          t      P>|t|      [95.0% Conf. Int.]\n",
       "----------------------------------------------------------------------------------\n",
       "const            476.7688      5.851     81.478      0.000       465.300   488.237\n",
       "majorcarrierid    -7.0731      0.057   -124.215      0.000        -7.185    -6.961\n",
       "cabinclass       260.9463      5.810     44.916      0.000       249.560   272.333\n",
       "los2              -0.7438      0.041    -18.148      0.000        -0.824    -0.663\n",
       "==============================================================================\n",
       "Omnibus:                   649829.779   Durbin-Watson:                   0.207\n",
       "Prob(Omnibus):                  0.000   Jarque-Bera (JB):         17048605.778\n",
       "Skew:                           2.084   Prob(JB):                         0.00\n",
       "Kurtosis:                      20.970   Cond. No.                         402.\n",
       "==============================================================================\n",
       "\n",
       "Warnings:\n",
       "[1] Standard Errors assume that the covariance matrix of the errors is correctly specified.\n",
       "\"\"\""
      ]
     },
     "execution_count": 10,
     "metadata": {},
     "output_type": "execute_result"
    }
   ],
   "source": [
    "# Now I want to write my model\n",
    "\n",
    "flights['majorcarrierid'] = pd.Categorical(flights.majorcarrierid).codes\n",
    "flights['cabinclass'] = pd.Categorical(flights.cabinclass).codes\n",
    "X = flights[['majorcarrierid', 'cabinclass', 'los2']]\n",
    "y = flights[['total']]\n",
    "\n",
    "X1 = sm.add_constant(X)\n",
    "est = sm.OLS(y, X1).fit()\n",
    "\n",
    "est.summary()"
   ]
  }
 ],
 "metadata": {
  "kernelspec": {
   "display_name": "Python 2",
   "language": "python",
   "name": "python2"
  },
  "language_info": {
   "codemirror_mode": {
    "name": "ipython",
    "version": 2
   },
   "file_extension": ".py",
   "mimetype": "text/x-python",
   "name": "python",
   "nbconvert_exporter": "python",
   "pygments_lexer": "ipython2",
   "version": "2.7.11"
  }
 },
 "nbformat": 4,
 "nbformat_minor": 0
}
