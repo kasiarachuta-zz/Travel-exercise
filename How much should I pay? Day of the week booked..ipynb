{
 "cells": [
  {
   "cell_type": "code",
   "execution_count": 30,
   "metadata": {
    "collapsed": true
   },
   "outputs": [],
   "source": [
    "import pandas as pd\n",
    "import numpy as np\n",
    "import datetime as dt\n",
    "import seaborn as sns\n",
    "import matplotlib as mpl\n",
    "import matplotlib.pyplot as plt\n",
    "import scipy.stats\n",
    "import time\n",
    "\n",
    "%matplotlib inline"
   ]
  },
  {
   "cell_type": "code",
   "execution_count": 31,
   "metadata": {
    "collapsed": false
   },
   "outputs": [
    {
     "data": {
      "text/html": [
       "<div>\n",
       "<table border=\"1\" class=\"dataframe\">\n",
       "  <thead>\n",
       "    <tr style=\"text-align: right;\">\n",
       "      <th></th>\n",
       "      <th>departure</th>\n",
       "      <th>return</th>\n",
       "      <th>triptimestamp</th>\n",
       "      <th>total</th>\n",
       "    </tr>\n",
       "  </thead>\n",
       "  <tbody>\n",
       "    <tr>\n",
       "      <th>0</th>\n",
       "      <td>1394789400</td>\n",
       "      <td>1395503700</td>\n",
       "      <td>1382317607</td>\n",
       "      <td>631.45</td>\n",
       "    </tr>\n",
       "    <tr>\n",
       "      <th>1</th>\n",
       "      <td>1394829000</td>\n",
       "      <td>1395498600</td>\n",
       "      <td>1382317607</td>\n",
       "      <td>632.95</td>\n",
       "    </tr>\n",
       "    <tr>\n",
       "      <th>2</th>\n",
       "      <td>1394804580</td>\n",
       "      <td>1395518400</td>\n",
       "      <td>1382317607</td>\n",
       "      <td>620.95</td>\n",
       "    </tr>\n",
       "    <tr>\n",
       "      <th>3</th>\n",
       "      <td>1394789400</td>\n",
       "      <td>1395498600</td>\n",
       "      <td>1382317607</td>\n",
       "      <td>632.95</td>\n",
       "    </tr>\n",
       "    <tr>\n",
       "      <th>4</th>\n",
       "      <td>1394789400</td>\n",
       "      <td>1395518400</td>\n",
       "      <td>1382317607</td>\n",
       "      <td>565.95</td>\n",
       "    </tr>\n",
       "  </tbody>\n",
       "</table>\n",
       "</div>"
      ],
      "text/plain": [
       "    departure      return  triptimestamp   total\n",
       "0  1394789400  1395503700     1382317607  631.45\n",
       "1  1394829000  1395498600     1382317607  632.95\n",
       "2  1394804580  1395518400     1382317607  620.95\n",
       "3  1394789400  1395498600     1382317607  632.95\n",
       "4  1394789400  1395518400     1382317607  565.95"
      ]
     },
     "execution_count": 31,
     "metadata": {},
     "output_type": "execute_result"
    }
   ],
   "source": [
    "# I read the data file and I import only the columns I'm interested in.\n",
    "\n",
    "flights = pd.read_csv(\"BOS_CUN_trips1M.csv\",)\n",
    "\n",
    "dates = flights[['departure', 'return', 'triptimestamp', 'total']]\n",
    "\n",
    "dates.head()"
   ]
  },
  {
   "cell_type": "code",
   "execution_count": 32,
   "metadata": {
    "collapsed": false
   },
   "outputs": [
    {
     "data": {
      "text/plain": [
       "departure        float64\n",
       "return           float64\n",
       "triptimestamp    float64\n",
       "total            float64\n",
       "dtype: object"
      ]
     },
     "execution_count": 32,
     "metadata": {},
     "output_type": "execute_result"
    }
   ],
   "source": [
    "# First, I need to convert the dates into floats in order to be able to do anything with them later.\n",
    "\n",
    "dates = dates.astype(float)\n",
    "\n",
    "dates.dtypes"
   ]
  },
  {
   "cell_type": "code",
   "execution_count": 33,
   "metadata": {
    "collapsed": false
   },
   "outputs": [
    {
     "data": {
      "text/html": [
       "<div>\n",
       "<table border=\"1\" class=\"dataframe\">\n",
       "  <thead>\n",
       "    <tr style=\"text-align: right;\">\n",
       "      <th></th>\n",
       "      <th>departure</th>\n",
       "      <th>return</th>\n",
       "      <th>triptimestamp</th>\n",
       "      <th>total</th>\n",
       "    </tr>\n",
       "  </thead>\n",
       "  <tbody>\n",
       "    <tr>\n",
       "      <th>0</th>\n",
       "      <td>2014-03-14 09:30:00</td>\n",
       "      <td>2014-03-22 15:55:00</td>\n",
       "      <td>2013-10-21 01:06:47</td>\n",
       "      <td>631.45</td>\n",
       "    </tr>\n",
       "    <tr>\n",
       "      <th>1</th>\n",
       "      <td>2014-03-14 20:30:00</td>\n",
       "      <td>2014-03-22 14:30:00</td>\n",
       "      <td>2013-10-21 01:06:47</td>\n",
       "      <td>632.95</td>\n",
       "    </tr>\n",
       "    <tr>\n",
       "      <th>2</th>\n",
       "      <td>2014-03-14 13:43:00</td>\n",
       "      <td>2014-03-22 20:00:00</td>\n",
       "      <td>2013-10-21 01:06:47</td>\n",
       "      <td>620.95</td>\n",
       "    </tr>\n",
       "    <tr>\n",
       "      <th>3</th>\n",
       "      <td>2014-03-14 09:30:00</td>\n",
       "      <td>2014-03-22 14:30:00</td>\n",
       "      <td>2013-10-21 01:06:47</td>\n",
       "      <td>632.95</td>\n",
       "    </tr>\n",
       "    <tr>\n",
       "      <th>4</th>\n",
       "      <td>2014-03-14 09:30:00</td>\n",
       "      <td>2014-03-22 20:00:00</td>\n",
       "      <td>2013-10-21 01:06:47</td>\n",
       "      <td>565.95</td>\n",
       "    </tr>\n",
       "  </tbody>\n",
       "</table>\n",
       "</div>"
      ],
      "text/plain": [
       "            departure              return       triptimestamp   total\n",
       "0 2014-03-14 09:30:00 2014-03-22 15:55:00 2013-10-21 01:06:47  631.45\n",
       "1 2014-03-14 20:30:00 2014-03-22 14:30:00 2013-10-21 01:06:47  632.95\n",
       "2 2014-03-14 13:43:00 2014-03-22 20:00:00 2013-10-21 01:06:47  620.95\n",
       "3 2014-03-14 09:30:00 2014-03-22 14:30:00 2013-10-21 01:06:47  632.95\n",
       "4 2014-03-14 09:30:00 2014-03-22 20:00:00 2013-10-21 01:06:47  565.95"
      ]
     },
     "execution_count": 33,
     "metadata": {},
     "output_type": "execute_result"
    }
   ],
   "source": [
    "# I now can convert epoch time (in seconds) into UCT.\n",
    "\n",
    "dates['triptimestamp'] = pd.to_datetime(dates['triptimestamp'], unit='s')\n",
    "\n",
    "dates['departure'] = pd.to_datetime(dates['departure'], unit='s')\n",
    "dates['return'] = pd.to_datetime(dates['return'], unit='s')\n",
    "\n",
    "dates.head()"
   ]
  },
  {
   "cell_type": "code",
   "execution_count": 35,
   "metadata": {
    "collapsed": false
   },
   "outputs": [
    {
     "data": {
      "text/html": [
       "<div>\n",
       "<table border=\"1\" class=\"dataframe\">\n",
       "  <thead>\n",
       "    <tr style=\"text-align: right;\">\n",
       "      <th></th>\n",
       "      <th>departure</th>\n",
       "      <th>return</th>\n",
       "      <th>triptimestamp</th>\n",
       "      <th>total</th>\n",
       "    </tr>\n",
       "  </thead>\n",
       "  <tbody>\n",
       "    <tr>\n",
       "      <th>0</th>\n",
       "      <td>2014-03-14 09:30:00</td>\n",
       "      <td>2014-03-22 15:55:00</td>\n",
       "      <td>2013-10-21 01:06:47</td>\n",
       "      <td>631.45</td>\n",
       "    </tr>\n",
       "    <tr>\n",
       "      <th>1</th>\n",
       "      <td>2014-03-14 20:30:00</td>\n",
       "      <td>2014-03-22 14:30:00</td>\n",
       "      <td>2013-10-21 01:06:47</td>\n",
       "      <td>632.95</td>\n",
       "    </tr>\n",
       "    <tr>\n",
       "      <th>2</th>\n",
       "      <td>2014-03-14 13:43:00</td>\n",
       "      <td>2014-03-22 20:00:00</td>\n",
       "      <td>2013-10-21 01:06:47</td>\n",
       "      <td>620.95</td>\n",
       "    </tr>\n",
       "    <tr>\n",
       "      <th>3</th>\n",
       "      <td>2014-03-14 09:30:00</td>\n",
       "      <td>2014-03-22 14:30:00</td>\n",
       "      <td>2013-10-21 01:06:47</td>\n",
       "      <td>632.95</td>\n",
       "    </tr>\n",
       "    <tr>\n",
       "      <th>4</th>\n",
       "      <td>2014-03-14 09:30:00</td>\n",
       "      <td>2014-03-22 20:00:00</td>\n",
       "      <td>2013-10-21 01:06:47</td>\n",
       "      <td>565.95</td>\n",
       "    </tr>\n",
       "  </tbody>\n",
       "</table>\n",
       "</div>"
      ],
      "text/plain": [
       "             departure               return        triptimestamp   total\n",
       "0  2014-03-14 09:30:00  2014-03-22 15:55:00  2013-10-21 01:06:47  631.45\n",
       "1  2014-03-14 20:30:00  2014-03-22 14:30:00  2013-10-21 01:06:47  632.95\n",
       "2  2014-03-14 13:43:00  2014-03-22 20:00:00  2013-10-21 01:06:47  620.95\n",
       "3  2014-03-14 09:30:00  2014-03-22 14:30:00  2013-10-21 01:06:47  632.95\n",
       "4  2014-03-14 09:30:00  2014-03-22 20:00:00  2013-10-21 01:06:47  565.95"
      ]
     },
     "execution_count": 35,
     "metadata": {},
     "output_type": "execute_result"
    }
   ],
   "source": [
    "# Firstly, I convert all the dates into strings that I can parse\n",
    "dates['departure'] = dates['departure'].astype(str)\n",
    "dates['return'] = dates['return'].astype(str)\n",
    "dates['triptimestamp'] = dates['triptimestamp'].astype(str)\n",
    "\n",
    "dates.head()"
   ]
  },
  {
   "cell_type": "code",
   "execution_count": 36,
   "metadata": {
    "collapsed": false
   },
   "outputs": [
    {
     "data": {
      "text/html": [
       "<div>\n",
       "<table border=\"1\" class=\"dataframe\">\n",
       "  <thead>\n",
       "    <tr style=\"text-align: right;\">\n",
       "      <th></th>\n",
       "      <th>departure dates</th>\n",
       "      <th>departure times</th>\n",
       "      <th>return dates</th>\n",
       "      <th>return times</th>\n",
       "      <th>timestamp dates</th>\n",
       "      <th>timestamp times</th>\n",
       "      <th>total</th>\n",
       "    </tr>\n",
       "  </thead>\n",
       "  <tbody>\n",
       "    <tr>\n",
       "      <th>0</th>\n",
       "      <td>2014-03-14</td>\n",
       "      <td>09:30:00</td>\n",
       "      <td>2014-03-22</td>\n",
       "      <td>15:55:00</td>\n",
       "      <td>2013-10-21</td>\n",
       "      <td>01:06:47</td>\n",
       "      <td>631.45</td>\n",
       "    </tr>\n",
       "    <tr>\n",
       "      <th>1</th>\n",
       "      <td>2014-03-14</td>\n",
       "      <td>20:30:00</td>\n",
       "      <td>2014-03-22</td>\n",
       "      <td>14:30:00</td>\n",
       "      <td>2013-10-21</td>\n",
       "      <td>01:06:47</td>\n",
       "      <td>632.95</td>\n",
       "    </tr>\n",
       "    <tr>\n",
       "      <th>2</th>\n",
       "      <td>2014-03-14</td>\n",
       "      <td>13:43:00</td>\n",
       "      <td>2014-03-22</td>\n",
       "      <td>20:00:00</td>\n",
       "      <td>2013-10-21</td>\n",
       "      <td>01:06:47</td>\n",
       "      <td>620.95</td>\n",
       "    </tr>\n",
       "    <tr>\n",
       "      <th>3</th>\n",
       "      <td>2014-03-14</td>\n",
       "      <td>09:30:00</td>\n",
       "      <td>2014-03-22</td>\n",
       "      <td>14:30:00</td>\n",
       "      <td>2013-10-21</td>\n",
       "      <td>01:06:47</td>\n",
       "      <td>632.95</td>\n",
       "    </tr>\n",
       "    <tr>\n",
       "      <th>4</th>\n",
       "      <td>2014-03-14</td>\n",
       "      <td>09:30:00</td>\n",
       "      <td>2014-03-22</td>\n",
       "      <td>20:00:00</td>\n",
       "      <td>2013-10-21</td>\n",
       "      <td>01:06:47</td>\n",
       "      <td>565.95</td>\n",
       "    </tr>\n",
       "  </tbody>\n",
       "</table>\n",
       "</div>"
      ],
      "text/plain": [
       "  departure dates departure times return dates return times timestamp dates  \\\n",
       "0      2014-03-14        09:30:00   2014-03-22     15:55:00      2013-10-21   \n",
       "1      2014-03-14        20:30:00   2014-03-22     14:30:00      2013-10-21   \n",
       "2      2014-03-14        13:43:00   2014-03-22     20:00:00      2013-10-21   \n",
       "3      2014-03-14        09:30:00   2014-03-22     14:30:00      2013-10-21   \n",
       "4      2014-03-14        09:30:00   2014-03-22     20:00:00      2013-10-21   \n",
       "\n",
       "  timestamp times   total  \n",
       "0        01:06:47  631.45  \n",
       "1        01:06:47  632.95  \n",
       "2        01:06:47  620.95  \n",
       "3        01:06:47  632.95  \n",
       "4        01:06:47  565.95  "
      ]
     },
     "execution_count": 36,
     "metadata": {},
     "output_type": "execute_result"
    }
   ],
   "source": [
    "# I now want to take each column and convert it into a Series so I can parse strings in each of them.\n",
    "# I then concatenate them back together.\n",
    "\n",
    "departuredates = dates['departure']\n",
    "returndates = dates['return']\n",
    "timestamp = dates['triptimestamp']\n",
    "datestotal = dates['total']\n",
    "\n",
    "departuredates = pd.Series(departuredates)\n",
    "returndates = pd.Series(returndates)\n",
    "timestamp = pd.Series(timestamp)\n",
    "\n",
    "departuresplit = departuredates.str.split(' ', expand=True)\n",
    "returndatesplit = returndates.str.split(' ', expand=True)\n",
    "timestampsplit = timestamp.str.split(' ', expand=True)\n",
    "\n",
    "departuresplit.columns = 'departure dates', 'departure times'\n",
    "returndatesplit.columns = 'return dates', 'return times'\n",
    "timestampsplit.columns = 'timestamp dates', 'timestamp times'\n",
    "\n",
    "frames = [departuresplit, returndatesplit, timestampsplit, datestotal]\n",
    "\n",
    "concat = pd.concat(frames, axis=1, join_axes=[departuresplit.index])\n",
    "\n",
    "concat.head()"
   ]
  },
  {
   "cell_type": "code",
   "execution_count": 37,
   "metadata": {
    "collapsed": false
   },
   "outputs": [
    {
     "data": {
      "text/html": [
       "<div>\n",
       "<table border=\"1\" class=\"dataframe\">\n",
       "  <thead>\n",
       "    <tr style=\"text-align: right;\">\n",
       "      <th></th>\n",
       "      <th>departure dates</th>\n",
       "      <th>departure times</th>\n",
       "      <th>return dates</th>\n",
       "      <th>return times</th>\n",
       "      <th>timestamp dates</th>\n",
       "      <th>timestamp times</th>\n",
       "      <th>total</th>\n",
       "      <th>day_of_week</th>\n",
       "    </tr>\n",
       "  </thead>\n",
       "  <tbody>\n",
       "    <tr>\n",
       "      <th>0</th>\n",
       "      <td>2014-03-14</td>\n",
       "      <td>09:30:00</td>\n",
       "      <td>2014-03-22</td>\n",
       "      <td>15:55:00</td>\n",
       "      <td>2013-10-21</td>\n",
       "      <td>01:06:47</td>\n",
       "      <td>631.45</td>\n",
       "      <td>Mon</td>\n",
       "    </tr>\n",
       "    <tr>\n",
       "      <th>1</th>\n",
       "      <td>2014-03-14</td>\n",
       "      <td>20:30:00</td>\n",
       "      <td>2014-03-22</td>\n",
       "      <td>14:30:00</td>\n",
       "      <td>2013-10-21</td>\n",
       "      <td>01:06:47</td>\n",
       "      <td>632.95</td>\n",
       "      <td>Mon</td>\n",
       "    </tr>\n",
       "    <tr>\n",
       "      <th>2</th>\n",
       "      <td>2014-03-14</td>\n",
       "      <td>13:43:00</td>\n",
       "      <td>2014-03-22</td>\n",
       "      <td>20:00:00</td>\n",
       "      <td>2013-10-21</td>\n",
       "      <td>01:06:47</td>\n",
       "      <td>620.95</td>\n",
       "      <td>Mon</td>\n",
       "    </tr>\n",
       "    <tr>\n",
       "      <th>3</th>\n",
       "      <td>2014-03-14</td>\n",
       "      <td>09:30:00</td>\n",
       "      <td>2014-03-22</td>\n",
       "      <td>14:30:00</td>\n",
       "      <td>2013-10-21</td>\n",
       "      <td>01:06:47</td>\n",
       "      <td>632.95</td>\n",
       "      <td>Mon</td>\n",
       "    </tr>\n",
       "    <tr>\n",
       "      <th>4</th>\n",
       "      <td>2014-03-14</td>\n",
       "      <td>09:30:00</td>\n",
       "      <td>2014-03-22</td>\n",
       "      <td>20:00:00</td>\n",
       "      <td>2013-10-21</td>\n",
       "      <td>01:06:47</td>\n",
       "      <td>565.95</td>\n",
       "      <td>Mon</td>\n",
       "    </tr>\n",
       "  </tbody>\n",
       "</table>\n",
       "</div>"
      ],
      "text/plain": [
       "  departure dates departure times return dates return times timestamp dates  \\\n",
       "0      2014-03-14        09:30:00   2014-03-22     15:55:00      2013-10-21   \n",
       "1      2014-03-14        20:30:00   2014-03-22     14:30:00      2013-10-21   \n",
       "2      2014-03-14        13:43:00   2014-03-22     20:00:00      2013-10-21   \n",
       "3      2014-03-14        09:30:00   2014-03-22     14:30:00      2013-10-21   \n",
       "4      2014-03-14        09:30:00   2014-03-22     20:00:00      2013-10-21   \n",
       "\n",
       "  timestamp times   total day_of_week  \n",
       "0        01:06:47  631.45         Mon  \n",
       "1        01:06:47  632.95         Mon  \n",
       "2        01:06:47  620.95         Mon  \n",
       "3        01:06:47  632.95         Mon  \n",
       "4        01:06:47  565.95         Mon  "
      ]
     },
     "execution_count": 37,
     "metadata": {},
     "output_type": "execute_result"
    }
   ],
   "source": [
    "# I now want to find the day of the week on the timestamp to then work out day of the week.\n",
    "\n",
    "concat['timestamp dates'] = pd.to_datetime(concat['timestamp dates'])\n",
    "concat['day_of_week'] = concat['timestamp dates'].dt.dayofweek\n",
    "\n",
    "days = {0:'Mon',1:'Tue',2:'Wed',3:'Thur',4:'Fri',5:'Sat',6:'Sun'}\n",
    "\n",
    "concat['day_of_week'] = concat['day_of_week'].apply(lambda x: days[x])\n",
    "\n",
    "concat.head()"
   ]
  },
  {
   "cell_type": "code",
   "execution_count": 38,
   "metadata": {
    "collapsed": false
   },
   "outputs": [
    {
     "data": {
      "text/plain": [
       "<matplotlib.axes._subplots.AxesSubplot at 0x14db68d90>"
      ]
     },
     "execution_count": 38,
     "metadata": {},
     "output_type": "execute_result"
    },
    {
     "data": {
      "image/png": "[encoded data removed]",
      "text/plain": [
       "<matplotlib.figure.Figure at 0x12d03cb90>"
      ]
     },
     "metadata": {},
     "output_type": "display_data"
    }
   ],
   "source": [
    "# I now produce a quick visualisation to see when it's best to book the flight.\n",
    "\n",
    "sns.boxplot(concat['day_of_week'], concat['total'])"
   ]
  },
  {
   "cell_type": "code",
   "execution_count": 39,
   "metadata": {
    "collapsed": false
   },
   "outputs": [],
   "source": [
    "'''I can see that the two furthest outliers are above $6,000. I want to see close the distribution so I will\n",
    "just look at the data with prices below $5,000'''\n",
    "\n",
    "concat2 = concat[concat['total'] < 6000]"
   ]
  },
  {
   "cell_type": "code",
   "execution_count": 40,
   "metadata": {
    "collapsed": false
   },
   "outputs": [
    {
     "data": {
      "text/plain": [
       "<matplotlib.axes._subplots.AxesSubplot at 0x155c2dc50>"
      ]
     },
     "execution_count": 40,
     "metadata": {},
     "output_type": "execute_result"
    },
    {
     "data": {
      "image/png": "[encoded data removed]",
      "text/plain": [
       "<matplotlib.figure.Figure at 0x18ea12ad0>"
      ]
     },
     "metadata": {},
     "output_type": "display_data"
    }
   ],
   "source": [
    "sns.boxplot(concat2['day_of_week'], concat2['total'])"
   ]
  },
  {
   "cell_type": "code",
   "execution_count": 42,
   "metadata": {
    "collapsed": false
   },
   "outputs": [
    {
     "data": {
      "text/html": [
       "<div>\n",
       "<table border=\"1\" class=\"dataframe\">\n",
       "  <thead>\n",
       "    <tr style=\"text-align: right;\">\n",
       "      <th></th>\n",
       "      <th>total</th>\n",
       "    </tr>\n",
       "    <tr>\n",
       "      <th>day_of_week</th>\n",
       "      <th></th>\n",
       "    </tr>\n",
       "  </thead>\n",
       "  <tbody>\n",
       "    <tr>\n",
       "      <th>Fri</th>\n",
       "      <td>695.859330</td>\n",
       "    </tr>\n",
       "    <tr>\n",
       "      <th>Mon</th>\n",
       "      <td>658.797686</td>\n",
       "    </tr>\n",
       "    <tr>\n",
       "      <th>Sat</th>\n",
       "      <td>683.030484</td>\n",
       "    </tr>\n",
       "    <tr>\n",
       "      <th>Sun</th>\n",
       "      <td>699.856178</td>\n",
       "    </tr>\n",
       "    <tr>\n",
       "      <th>Thur</th>\n",
       "      <td>678.577925</td>\n",
       "    </tr>\n",
       "    <tr>\n",
       "      <th>Tue</th>\n",
       "      <td>658.865848</td>\n",
       "    </tr>\n",
       "    <tr>\n",
       "      <th>Wed</th>\n",
       "      <td>659.666595</td>\n",
       "    </tr>\n",
       "  </tbody>\n",
       "</table>\n",
       "</div>"
      ],
      "text/plain": [
       "                  total\n",
       "day_of_week            \n",
       "Fri          695.859330\n",
       "Mon          658.797686\n",
       "Sat          683.030484\n",
       "Sun          699.856178\n",
       "Thur         678.577925\n",
       "Tue          658.865848\n",
       "Wed          659.666595"
      ]
     },
     "execution_count": 42,
     "metadata": {},
     "output_type": "execute_result"
    }
   ],
   "source": [
    "# I now want to see the mean price for each day of the week.\n",
    "\n",
    "concat.groupby('day_of_week').mean()"
   ]
  },
  {
   "cell_type": "code",
   "execution_count": null,
   "metadata": {
    "collapsed": true
   },
   "outputs": [],
   "source": [
    "# I can see that the flights are marginally cheaper on Mondays and Tuesdays."
   ]
  }
 ],
 "metadata": {
  "kernelspec": {
   "display_name": "Python 2",
   "language": "python",
   "name": "python2"
  },
  "language_info": {
   "codemirror_mode": {
    "name": "ipython",
    "version": 2
   },
   "file_extension": ".py",
   "mimetype": "text/x-python",
   "name": "python",
   "nbconvert_exporter": "python",
   "pygments_lexer": "ipython2",
   "version": "2.7.11"
  }
 },
 "nbformat": 4,
 "nbformat_minor": 0
}
