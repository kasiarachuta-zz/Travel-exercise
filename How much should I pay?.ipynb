{
 "cells": [
  {
   "cell_type": "code",
   "execution_count": 6,
   "metadata": {
    "collapsed": false
   },
   "outputs": [],
   "source": [
    "import pandas as pd\n",
    "import numpy as np\n",
    "import seaborn as sns\n",
    "import matplotlib as mpl\n",
    "import matplotlib.pyplot as plt\n",
    "%matplotlib inline"
   ]
  },
  {
   "cell_type": "code",
   "execution_count": 3,
   "metadata": {
    "collapsed": false
   },
   "outputs": [
    {
     "data": {
      "text/html": [
       "<div>\n",
       "<table border=\"1\" class=\"dataframe\">\n",
       "  <thead>\n",
       "    <tr style=\"text-align: right;\">\n",
       "      <th></th>\n",
       "      <th>messageid</th>\n",
       "      <th>tripindex</th>\n",
       "      <th>received</th>\n",
       "      <th>currency</th>\n",
       "      <th>total</th>\n",
       "      <th>tax</th>\n",
       "      <th>surcharge</th>\n",
       "      <th>source</th>\n",
       "      <th>merchant</th>\n",
       "      <th>majorcarrierid</th>\n",
       "      <th>...</th>\n",
       "      <th>refundable</th>\n",
       "      <th>triptimestamp</th>\n",
       "      <th>receiveddate</th>\n",
       "      <th>received_odate</th>\n",
       "      <th>departure_odate</th>\n",
       "      <th>return_ddate</th>\n",
       "      <th>los2</th>\n",
       "      <th>departure_dow</th>\n",
       "      <th>return_dow</th>\n",
       "      <th>includes_sns</th>\n",
       "    </tr>\n",
       "  </thead>\n",
       "  <tbody>\n",
       "    <tr>\n",
       "      <th>0</th>\n",
       "      <td>f4f57b70aaf2f56600000141d88ccbb0294a88500186aea5</td>\n",
       "      <td>12</td>\n",
       "      <td>1382317607</td>\n",
       "      <td>USD</td>\n",
       "      <td>631.45</td>\n",
       "      <td>123.45</td>\n",
       "      <td>0.0</td>\n",
       "      <td>Sabre</td>\n",
       "      <td>TCY</td>\n",
       "      <td>US</td>\n",
       "      <td>...</td>\n",
       "      <td>False</td>\n",
       "      <td>1382317607</td>\n",
       "      <td>20131021</td>\n",
       "      <td>2013-10-20</td>\n",
       "      <td>2014-03-14</td>\n",
       "      <td>2014-03-22</td>\n",
       "      <td>8</td>\n",
       "      <td>5</td>\n",
       "      <td>6</td>\n",
       "      <td>1</td>\n",
       "    </tr>\n",
       "    <tr>\n",
       "      <th>1</th>\n",
       "      <td>f4f57b70aaf2f56600000141d88ccbb0294a88500186aea5</td>\n",
       "      <td>11</td>\n",
       "      <td>1382317607</td>\n",
       "      <td>USD</td>\n",
       "      <td>632.95</td>\n",
       "      <td>124.95</td>\n",
       "      <td>0.0</td>\n",
       "      <td>Sabre</td>\n",
       "      <td>TCY</td>\n",
       "      <td>US</td>\n",
       "      <td>...</td>\n",
       "      <td>False</td>\n",
       "      <td>1382317607</td>\n",
       "      <td>20131021</td>\n",
       "      <td>2013-10-20</td>\n",
       "      <td>2014-03-14</td>\n",
       "      <td>2014-03-22</td>\n",
       "      <td>8</td>\n",
       "      <td>5</td>\n",
       "      <td>6</td>\n",
       "      <td>1</td>\n",
       "    </tr>\n",
       "    <tr>\n",
       "      <th>2</th>\n",
       "      <td>f4f57b70aaf2f56600000141d88ccbb0294a88500186aea5</td>\n",
       "      <td>10</td>\n",
       "      <td>1382317607</td>\n",
       "      <td>USD</td>\n",
       "      <td>620.95</td>\n",
       "      <td>124.95</td>\n",
       "      <td>0.0</td>\n",
       "      <td>Sabre</td>\n",
       "      <td>TCY</td>\n",
       "      <td>B6</td>\n",
       "      <td>...</td>\n",
       "      <td>False</td>\n",
       "      <td>1382317607</td>\n",
       "      <td>20131021</td>\n",
       "      <td>2013-10-20</td>\n",
       "      <td>2014-03-14</td>\n",
       "      <td>2014-03-22</td>\n",
       "      <td>8</td>\n",
       "      <td>5</td>\n",
       "      <td>6</td>\n",
       "      <td>1</td>\n",
       "    </tr>\n",
       "    <tr>\n",
       "      <th>3</th>\n",
       "      <td>f4f57b70aaf2f56600000141d88ccbb0294a88500186aea5</td>\n",
       "      <td>9</td>\n",
       "      <td>1382317607</td>\n",
       "      <td>USD</td>\n",
       "      <td>632.95</td>\n",
       "      <td>124.95</td>\n",
       "      <td>0.0</td>\n",
       "      <td>Sabre</td>\n",
       "      <td>TCY</td>\n",
       "      <td>US</td>\n",
       "      <td>...</td>\n",
       "      <td>False</td>\n",
       "      <td>1382317607</td>\n",
       "      <td>20131021</td>\n",
       "      <td>2013-10-20</td>\n",
       "      <td>2014-03-14</td>\n",
       "      <td>2014-03-22</td>\n",
       "      <td>8</td>\n",
       "      <td>5</td>\n",
       "      <td>6</td>\n",
       "      <td>1</td>\n",
       "    </tr>\n",
       "    <tr>\n",
       "      <th>4</th>\n",
       "      <td>f4f57b70aaf2f56600000141d88ccbb0294a88500186aea5</td>\n",
       "      <td>8</td>\n",
       "      <td>1382317607</td>\n",
       "      <td>USD</td>\n",
       "      <td>565.95</td>\n",
       "      <td>124.95</td>\n",
       "      <td>0.0</td>\n",
       "      <td>Sabre</td>\n",
       "      <td>TCY</td>\n",
       "      <td>US</td>\n",
       "      <td>...</td>\n",
       "      <td>False</td>\n",
       "      <td>1382317607</td>\n",
       "      <td>20131021</td>\n",
       "      <td>2013-10-20</td>\n",
       "      <td>2014-03-14</td>\n",
       "      <td>2014-03-22</td>\n",
       "      <td>8</td>\n",
       "      <td>5</td>\n",
       "      <td>6</td>\n",
       "      <td>1</td>\n",
       "    </tr>\n",
       "  </tbody>\n",
       "</table>\n",
       "<p>5 rows × 31 columns</p>\n",
       "</div>"
      ],
      "text/plain": [
       "                                          messageid  tripindex    received  \\\n",
       "0  f4f57b70aaf2f56600000141d88ccbb0294a88500186aea5         12  1382317607   \n",
       "1  f4f57b70aaf2f56600000141d88ccbb0294a88500186aea5         11  1382317607   \n",
       "2  f4f57b70aaf2f56600000141d88ccbb0294a88500186aea5         10  1382317607   \n",
       "3  f4f57b70aaf2f56600000141d88ccbb0294a88500186aea5          9  1382317607   \n",
       "4  f4f57b70aaf2f56600000141d88ccbb0294a88500186aea5          8  1382317607   \n",
       "\n",
       "  currency   total     tax  surcharge source merchant majorcarrierid  \\\n",
       "0      USD  631.45  123.45        0.0  Sabre      TCY             US   \n",
       "1      USD  632.95  124.95        0.0  Sabre      TCY             US   \n",
       "2      USD  620.95  124.95        0.0  Sabre      TCY             B6   \n",
       "3      USD  632.95  124.95        0.0  Sabre      TCY             US   \n",
       "4      USD  565.95  124.95        0.0  Sabre      TCY             US   \n",
       "\n",
       "      ...      refundable triptimestamp  receiveddate  received_odate  \\\n",
       "0     ...           False    1382317607      20131021      2013-10-20   \n",
       "1     ...           False    1382317607      20131021      2013-10-20   \n",
       "2     ...           False    1382317607      20131021      2013-10-20   \n",
       "3     ...           False    1382317607      20131021      2013-10-20   \n",
       "4     ...           False    1382317607      20131021      2013-10-20   \n",
       "\n",
       "   departure_odate  return_ddate  los2  departure_dow  return_dow includes_sns  \n",
       "0       2014-03-14    2014-03-22     8              5           6            1  \n",
       "1       2014-03-14    2014-03-22     8              5           6            1  \n",
       "2       2014-03-14    2014-03-22     8              5           6            1  \n",
       "3       2014-03-14    2014-03-22     8              5           6            1  \n",
       "4       2014-03-14    2014-03-22     8              5           6            1  \n",
       "\n",
       "[5 rows x 31 columns]"
      ]
     },
     "execution_count": 3,
     "metadata": {},
     "output_type": "execute_result"
    }
   ],
   "source": [
    "# I import the file with data\n",
    "\n",
    "flights = pd.read_csv(\"BOS_CUN_trips1M.csv\",)\n",
    "\n",
    "flights.head()"
   ]
  },
  {
   "cell_type": "code",
   "execution_count": 10,
   "metadata": {
    "collapsed": false
   },
   "outputs": [
    {
     "data": {
      "text/plain": [
       "<matplotlib.axes._subplots.AxesSubplot at 0x119506550>"
      ]
     },
     "execution_count": 10,
     "metadata": {},
     "output_type": "execute_result"
    },
    {
     "data": {
      "image/png": "[encoded data removed]",
      "text/plain": [
       "<matplotlib.figure.Figure at 0x11a78cd90>"
      ]
     },
     "metadata": {},
     "output_type": "display_data"
    }
   ],
   "source": [
    "# I now want to quickly visualise the data using a box plot.\n",
    "\n",
    "sns.boxplot(flights['total'], vert=False)\n",
    "\n",
    "# I can now see the distribution. There is one outlier at ~$6,500.\n",
    "# 75% of the tickets are below $1250."
   ]
  },
  {
   "cell_type": "code",
   "execution_count": 11,
   "metadata": {
    "collapsed": false
   },
   "outputs": [
    {
     "data": {
      "text/plain": [
       "<matplotlib.axes._subplots.AxesSubplot at 0x119bc40d0>"
      ]
     },
     "execution_count": 11,
     "metadata": {},
     "output_type": "execute_result"
    },
    {
     "data": {
      "image/png": "[encoded data removed]",
      "text/plain": [
       "<matplotlib.figure.Figure at 0x11a0a0c90>"
      ]
     },
     "metadata": {},
     "output_type": "display_data"
    }
   ],
   "source": [
    "# I also want to plot a violin plot as I am not sure if the box plot  gives me the full picture.\n",
    "\n",
    "sns.violinplot(flights['total'])\n",
    "\n",
    "# I can now see that there are a lot of flights around ~$500."
   ]
  },
  {
   "cell_type": "code",
   "execution_count": 6,
   "metadata": {
    "collapsed": false
   },
   "outputs": [
    {
     "data": {
      "text/html": [
       "<div>\n",
       "<table border=\"1\" class=\"dataframe\">\n",
       "  <thead>\n",
       "    <tr style=\"text-align: right;\">\n",
       "      <th></th>\n",
       "      <th>total</th>\n",
       "    </tr>\n",
       "  </thead>\n",
       "  <tbody>\n",
       "    <tr>\n",
       "      <th>count</th>\n",
       "      <td>1.202445e+06</td>\n",
       "    </tr>\n",
       "    <tr>\n",
       "      <th>mean</th>\n",
       "      <td>6.742877e+02</td>\n",
       "    </tr>\n",
       "    <tr>\n",
       "      <th>std</th>\n",
       "      <td>2.787050e+02</td>\n",
       "    </tr>\n",
       "    <tr>\n",
       "      <th>min</th>\n",
       "      <td>3.203700e+02</td>\n",
       "    </tr>\n",
       "    <tr>\n",
       "      <th>25%</th>\n",
       "      <td>4.719500e+02</td>\n",
       "    </tr>\n",
       "    <tr>\n",
       "      <th>50%</th>\n",
       "      <td>5.913700e+02</td>\n",
       "    </tr>\n",
       "    <tr>\n",
       "      <th>75%</th>\n",
       "      <td>7.933700e+02</td>\n",
       "    </tr>\n",
       "    <tr>\n",
       "      <th>max</th>\n",
       "      <td>6.523740e+03</td>\n",
       "    </tr>\n",
       "  </tbody>\n",
       "</table>\n",
       "</div>"
      ],
      "text/plain": [
       "              total\n",
       "count  1.202445e+06\n",
       "mean   6.742877e+02\n",
       "std    2.787050e+02\n",
       "min    3.203700e+02\n",
       "25%    4.719500e+02\n",
       "50%    5.913700e+02\n",
       "75%    7.933700e+02\n",
       "max    6.523740e+03"
      ]
     },
     "execution_count": 6,
     "metadata": {},
     "output_type": "execute_result"
    }
   ],
   "source": [
    "# I am just interested in the total value.\n",
    "\n",
    "flights_price = flights['total']\n",
    "flights_price = pd.DataFrame(flights_price)\n",
    "flights_price.describe()"
   ]
  },
  {
   "cell_type": "code",
   "execution_count": 12,
   "metadata": {
    "collapsed": false
   },
   "outputs": [],
   "source": [
    "# This means that the mean price is ~$674, we will pay the minimum of $320.\n",
    "# 50% of the flights cost $591 or less.\n",
    "# The most expensive flight was at $6523.74"
   ]
  },
  {
   "cell_type": "code",
   "execution_count": null,
   "metadata": {
    "collapsed": true
   },
   "outputs": [],
   "source": [
    "'''There are a number of factors that will affect the price: \n",
    "the cabin class - I would expect the flights to be expensive for first class and cheapest for the economy class\n",
    "the number of stopovers - I expect direct flights to be most expensive\n",
    "refundable/non-refundable tickets - I would expect the latter to be cheaper\n",
    "airline - some airlines will be more expensive than others\n",
    "date booked - booking really far ahead and really close to the departure date should be expensive\n",
    "travel time - some times will be cheaper than others'''"
   ]
  }
 ],
 "metadata": {
  "kernelspec": {
   "display_name": "Python 2",
   "language": "python",
   "name": "python2"
  },
  "language_info": {
   "codemirror_mode": {
    "name": "ipython",
    "version": 2
   },
   "file_extension": ".py",
   "mimetype": "text/x-python",
   "name": "python",
   "nbconvert_exporter": "python",
   "pygments_lexer": "ipython2",
   "version": "2.7.11"
  }
 },
 "nbformat": 4,
 "nbformat_minor": 0
}
