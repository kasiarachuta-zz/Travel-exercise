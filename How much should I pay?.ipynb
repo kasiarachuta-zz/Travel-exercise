{
 "cells": [
  {
   "cell_type": "code",
   "execution_count": 1,
   "metadata": {
    "collapsed": false
   },
   "outputs": [],
   "source": [
    "import pandas as pd\n",
    "import numpy as np\n",
    "import seaborn as sns\n",
    "import matplotlib as mpl\n",
    "import matplotlib.pyplot as plt\n",
    "%matplotlib inline"
   ]
  },
  {
   "cell_type": "code",
   "execution_count": 2,
   "metadata": {
    "collapsed": false
   },
   "outputs": [
    {
     "data": {
      "text/html": [
       "<div>\n",
       "<table border=\"1\" class=\"dataframe\">\n",
       "  <thead>\n",
       "    <tr style=\"text-align: right;\">\n",
       "      <th></th>\n",
       "      <th>messageid</th>\n",
       "      <th>tripindex</th>\n",
       "      <th>received</th>\n",
       "      <th>currency</th>\n",
       "      <th>total</th>\n",
       "      <th>tax</th>\n",
       "      <th>surcharge</th>\n",
       "      <th>source</th>\n",
       "      <th>merchant</th>\n",
       "      <th>majorcarrierid</th>\n",
       "      <th>...</th>\n",
       "      <th>refundable</th>\n",
       "      <th>triptimestamp</th>\n",
       "      <th>receiveddate</th>\n",
       "      <th>received_odate</th>\n",
       "      <th>departure_odate</th>\n",
       "      <th>return_ddate</th>\n",
       "      <th>los2</th>\n",
       "      <th>departure_dow</th>\n",
       "      <th>return_dow</th>\n",
       "      <th>includes_sns</th>\n",
       "    </tr>\n",
       "  </thead>\n",
       "  <tbody>\n",
       "    <tr>\n",
       "      <th>0</th>\n",
       "      <td>f4f57b70aaf2f56600000141d88ccbb0294a88500186aea5</td>\n",
       "      <td>12</td>\n",
       "      <td>1382317607</td>\n",
       "      <td>USD</td>\n",
       "      <td>631.45</td>\n",
       "      <td>123.45</td>\n",
       "      <td>0.0</td>\n",
       "      <td>Sabre</td>\n",
       "      <td>TCY</td>\n",
       "      <td>US</td>\n",
       "      <td>...</td>\n",
       "      <td>False</td>\n",
       "      <td>1382317607</td>\n",
       "      <td>20131021</td>\n",
       "      <td>2013-10-20</td>\n",
       "      <td>2014-03-14</td>\n",
       "      <td>2014-03-22</td>\n",
       "      <td>8</td>\n",
       "      <td>5</td>\n",
       "      <td>6</td>\n",
       "      <td>1</td>\n",
       "    </tr>\n",
       "    <tr>\n",
       "      <th>1</th>\n",
       "      <td>f4f57b70aaf2f56600000141d88ccbb0294a88500186aea5</td>\n",
       "      <td>11</td>\n",
       "      <td>1382317607</td>\n",
       "      <td>USD</td>\n",
       "      <td>632.95</td>\n",
       "      <td>124.95</td>\n",
       "      <td>0.0</td>\n",
       "      <td>Sabre</td>\n",
       "      <td>TCY</td>\n",
       "      <td>US</td>\n",
       "      <td>...</td>\n",
       "      <td>False</td>\n",
       "      <td>1382317607</td>\n",
       "      <td>20131021</td>\n",
       "      <td>2013-10-20</td>\n",
       "      <td>2014-03-14</td>\n",
       "      <td>2014-03-22</td>\n",
       "      <td>8</td>\n",
       "      <td>5</td>\n",
       "      <td>6</td>\n",
       "      <td>1</td>\n",
       "    </tr>\n",
       "    <tr>\n",
       "      <th>2</th>\n",
       "      <td>f4f57b70aaf2f56600000141d88ccbb0294a88500186aea5</td>\n",
       "      <td>10</td>\n",
       "      <td>1382317607</td>\n",
       "      <td>USD</td>\n",
       "      <td>620.95</td>\n",
       "      <td>124.95</td>\n",
       "      <td>0.0</td>\n",
       "      <td>Sabre</td>\n",
       "      <td>TCY</td>\n",
       "      <td>B6</td>\n",
       "      <td>...</td>\n",
       "      <td>False</td>\n",
       "      <td>1382317607</td>\n",
       "      <td>20131021</td>\n",
       "      <td>2013-10-20</td>\n",
       "      <td>2014-03-14</td>\n",
       "      <td>2014-03-22</td>\n",
       "      <td>8</td>\n",
       "      <td>5</td>\n",
       "      <td>6</td>\n",
       "      <td>1</td>\n",
       "    </tr>\n",
       "    <tr>\n",
       "      <th>3</th>\n",
       "      <td>f4f57b70aaf2f56600000141d88ccbb0294a88500186aea5</td>\n",
       "      <td>9</td>\n",
       "      <td>1382317607</td>\n",
       "      <td>USD</td>\n",
       "      <td>632.95</td>\n",
       "      <td>124.95</td>\n",
       "      <td>0.0</td>\n",
       "      <td>Sabre</td>\n",
       "      <td>TCY</td>\n",
       "      <td>US</td>\n",
       "      <td>...</td>\n",
       "      <td>False</td>\n",
       "      <td>1382317607</td>\n",
       "      <td>20131021</td>\n",
       "      <td>2013-10-20</td>\n",
       "      <td>2014-03-14</td>\n",
       "      <td>2014-03-22</td>\n",
       "      <td>8</td>\n",
       "      <td>5</td>\n",
       "      <td>6</td>\n",
       "      <td>1</td>\n",
       "    </tr>\n",
       "    <tr>\n",
       "      <th>4</th>\n",
       "      <td>f4f57b70aaf2f56600000141d88ccbb0294a88500186aea5</td>\n",
       "      <td>8</td>\n",
       "      <td>1382317607</td>\n",
       "      <td>USD</td>\n",
       "      <td>565.95</td>\n",
       "      <td>124.95</td>\n",
       "      <td>0.0</td>\n",
       "      <td>Sabre</td>\n",
       "      <td>TCY</td>\n",
       "      <td>US</td>\n",
       "      <td>...</td>\n",
       "      <td>False</td>\n",
       "      <td>1382317607</td>\n",
       "      <td>20131021</td>\n",
       "      <td>2013-10-20</td>\n",
       "      <td>2014-03-14</td>\n",
       "      <td>2014-03-22</td>\n",
       "      <td>8</td>\n",
       "      <td>5</td>\n",
       "      <td>6</td>\n",
       "      <td>1</td>\n",
       "    </tr>\n",
       "  </tbody>\n",
       "</table>\n",
       "<p>5 rows × 31 columns</p>\n",
       "</div>"
      ],
      "text/plain": [
       "                                          messageid  tripindex    received  \\\n",
       "0  f4f57b70aaf2f56600000141d88ccbb0294a88500186aea5         12  1382317607   \n",
       "1  f4f57b70aaf2f56600000141d88ccbb0294a88500186aea5         11  1382317607   \n",
       "2  f4f57b70aaf2f56600000141d88ccbb0294a88500186aea5         10  1382317607   \n",
       "3  f4f57b70aaf2f56600000141d88ccbb0294a88500186aea5          9  1382317607   \n",
       "4  f4f57b70aaf2f56600000141d88ccbb0294a88500186aea5          8  1382317607   \n",
       "\n",
       "  currency   total     tax  surcharge source merchant majorcarrierid  \\\n",
       "0      USD  631.45  123.45        0.0  Sabre      TCY             US   \n",
       "1      USD  632.95  124.95        0.0  Sabre      TCY             US   \n",
       "2      USD  620.95  124.95        0.0  Sabre      TCY             B6   \n",
       "3      USD  632.95  124.95        0.0  Sabre      TCY             US   \n",
       "4      USD  565.95  124.95        0.0  Sabre      TCY             US   \n",
       "\n",
       "      ...      refundable triptimestamp  receiveddate  received_odate  \\\n",
       "0     ...           False    1382317607      20131021      2013-10-20   \n",
       "1     ...           False    1382317607      20131021      2013-10-20   \n",
       "2     ...           False    1382317607      20131021      2013-10-20   \n",
       "3     ...           False    1382317607      20131021      2013-10-20   \n",
       "4     ...           False    1382317607      20131021      2013-10-20   \n",
       "\n",
       "   departure_odate  return_ddate  los2  departure_dow  return_dow includes_sns  \n",
       "0       2014-03-14    2014-03-22     8              5           6            1  \n",
       "1       2014-03-14    2014-03-22     8              5           6            1  \n",
       "2       2014-03-14    2014-03-22     8              5           6            1  \n",
       "3       2014-03-14    2014-03-22     8              5           6            1  \n",
       "4       2014-03-14    2014-03-22     8              5           6            1  \n",
       "\n",
       "[5 rows x 31 columns]"
      ]
     },
     "execution_count": 2,
     "metadata": {},
     "output_type": "execute_result"
    }
   ],
   "source": [
    "# Firstly, I read the data.\n",
    "\n",
    "flights = pd.read_csv(\"BOS_CUN_trips1M.csv\",)\n",
    "flights.head()"
   ]
  },
  {
   "cell_type": "code",
   "execution_count": 3,
   "metadata": {
    "collapsed": false
   },
   "outputs": [
    {
     "data": {
      "text/html": [
       "<div>\n",
       "<table border=\"1\" class=\"dataframe\">\n",
       "  <thead>\n",
       "    <tr style=\"text-align: right;\">\n",
       "      <th></th>\n",
       "      <th>messageid</th>\n",
       "      <th>tripindex</th>\n",
       "      <th>received</th>\n",
       "      <th>currency</th>\n",
       "      <th>total</th>\n",
       "      <th>tax</th>\n",
       "      <th>surcharge</th>\n",
       "      <th>source</th>\n",
       "      <th>merchant</th>\n",
       "      <th>majorcarrierid</th>\n",
       "      <th>...</th>\n",
       "      <th>refundable</th>\n",
       "      <th>triptimestamp</th>\n",
       "      <th>receiveddate</th>\n",
       "      <th>received_odate</th>\n",
       "      <th>departure_odate</th>\n",
       "      <th>return_ddate</th>\n",
       "      <th>los2</th>\n",
       "      <th>departure_dow</th>\n",
       "      <th>return_dow</th>\n",
       "      <th>includes_sns</th>\n",
       "    </tr>\n",
       "  </thead>\n",
       "  <tbody>\n",
       "    <tr>\n",
       "      <th>1202440</th>\n",
       "      <td>15742f8fd2e292ff0000014122f1ba477cbc247adc40c446</td>\n",
       "      <td>19</td>\n",
       "      <td>1379270769</td>\n",
       "      <td>USD</td>\n",
       "      <td>664.37</td>\n",
       "      <td>101.37</td>\n",
       "      <td>0.0</td>\n",
       "      <td>Sabre</td>\n",
       "      <td>TCY</td>\n",
       "      <td>B6</td>\n",
       "      <td>...</td>\n",
       "      <td>False</td>\n",
       "      <td>1379270769</td>\n",
       "      <td>20130915</td>\n",
       "      <td>2013-09-15</td>\n",
       "      <td>2014-04-16</td>\n",
       "      <td>2014-04-23</td>\n",
       "      <td>7</td>\n",
       "      <td>3</td>\n",
       "      <td>3</td>\n",
       "      <td>1</td>\n",
       "    </tr>\n",
       "    <tr>\n",
       "      <th>1202441</th>\n",
       "      <td>15742f8fd2e292ff0000014122f1ba477cbc247adc40c446</td>\n",
       "      <td>20</td>\n",
       "      <td>1379270769</td>\n",
       "      <td>USD</td>\n",
       "      <td>486.87</td>\n",
       "      <td>113.87</td>\n",
       "      <td>0.0</td>\n",
       "      <td>Sabre</td>\n",
       "      <td>TCY</td>\n",
       "      <td>UA</td>\n",
       "      <td>...</td>\n",
       "      <td>False</td>\n",
       "      <td>1379270769</td>\n",
       "      <td>20130915</td>\n",
       "      <td>2013-09-15</td>\n",
       "      <td>2014-04-16</td>\n",
       "      <td>2014-04-23</td>\n",
       "      <td>7</td>\n",
       "      <td>3</td>\n",
       "      <td>3</td>\n",
       "      <td>1</td>\n",
       "    </tr>\n",
       "    <tr>\n",
       "      <th>1202442</th>\n",
       "      <td>15742f8fd2e292ff0000014122f1ba477cbc247adc40c446</td>\n",
       "      <td>21</td>\n",
       "      <td>1379270769</td>\n",
       "      <td>USD</td>\n",
       "      <td>554.87</td>\n",
       "      <td>113.87</td>\n",
       "      <td>0.0</td>\n",
       "      <td>Sabre</td>\n",
       "      <td>TCY</td>\n",
       "      <td>US</td>\n",
       "      <td>...</td>\n",
       "      <td>False</td>\n",
       "      <td>1379270769</td>\n",
       "      <td>20130915</td>\n",
       "      <td>2013-09-15</td>\n",
       "      <td>2014-04-16</td>\n",
       "      <td>2014-04-23</td>\n",
       "      <td>7</td>\n",
       "      <td>3</td>\n",
       "      <td>3</td>\n",
       "      <td>1</td>\n",
       "    </tr>\n",
       "    <tr>\n",
       "      <th>1202443</th>\n",
       "      <td>15742f8fd2e292ff0000014122f1ba477cbc247adc40c446</td>\n",
       "      <td>22</td>\n",
       "      <td>1379270769</td>\n",
       "      <td>USD</td>\n",
       "      <td>486.87</td>\n",
       "      <td>113.87</td>\n",
       "      <td>0.0</td>\n",
       "      <td>Sabre</td>\n",
       "      <td>TCY</td>\n",
       "      <td>UA</td>\n",
       "      <td>...</td>\n",
       "      <td>False</td>\n",
       "      <td>1379270769</td>\n",
       "      <td>20130915</td>\n",
       "      <td>2013-09-15</td>\n",
       "      <td>2014-04-16</td>\n",
       "      <td>2014-04-23</td>\n",
       "      <td>7</td>\n",
       "      <td>3</td>\n",
       "      <td>3</td>\n",
       "      <td>1</td>\n",
       "    </tr>\n",
       "    <tr>\n",
       "      <th>1202444</th>\n",
       "      <td>15742f8fd2e292ff0000014122f1ba477cbc247adc40c446</td>\n",
       "      <td>23</td>\n",
       "      <td>1379270769</td>\n",
       "      <td>USD</td>\n",
       "      <td>561.87</td>\n",
       "      <td>120.87</td>\n",
       "      <td>0.0</td>\n",
       "      <td>Sabre</td>\n",
       "      <td>TCY</td>\n",
       "      <td>US</td>\n",
       "      <td>...</td>\n",
       "      <td>False</td>\n",
       "      <td>1379270769</td>\n",
       "      <td>20130915</td>\n",
       "      <td>2013-09-15</td>\n",
       "      <td>2014-04-16</td>\n",
       "      <td>2014-04-23</td>\n",
       "      <td>7</td>\n",
       "      <td>3</td>\n",
       "      <td>3</td>\n",
       "      <td>1</td>\n",
       "    </tr>\n",
       "  </tbody>\n",
       "</table>\n",
       "<p>5 rows × 31 columns</p>\n",
       "</div>"
      ],
      "text/plain": [
       "                                                messageid  tripindex  \\\n",
       "1202440  15742f8fd2e292ff0000014122f1ba477cbc247adc40c446         19   \n",
       "1202441  15742f8fd2e292ff0000014122f1ba477cbc247adc40c446         20   \n",
       "1202442  15742f8fd2e292ff0000014122f1ba477cbc247adc40c446         21   \n",
       "1202443  15742f8fd2e292ff0000014122f1ba477cbc247adc40c446         22   \n",
       "1202444  15742f8fd2e292ff0000014122f1ba477cbc247adc40c446         23   \n",
       "\n",
       "           received currency   total     tax  surcharge source merchant  \\\n",
       "1202440  1379270769      USD  664.37  101.37        0.0  Sabre      TCY   \n",
       "1202441  1379270769      USD  486.87  113.87        0.0  Sabre      TCY   \n",
       "1202442  1379270769      USD  554.87  113.87        0.0  Sabre      TCY   \n",
       "1202443  1379270769      USD  486.87  113.87        0.0  Sabre      TCY   \n",
       "1202444  1379270769      USD  561.87  120.87        0.0  Sabre      TCY   \n",
       "\n",
       "        majorcarrierid     ...      refundable triptimestamp  receiveddate  \\\n",
       "1202440             B6     ...           False    1379270769      20130915   \n",
       "1202441             UA     ...           False    1379270769      20130915   \n",
       "1202442             US     ...           False    1379270769      20130915   \n",
       "1202443             UA     ...           False    1379270769      20130915   \n",
       "1202444             US     ...           False    1379270769      20130915   \n",
       "\n",
       "         received_odate  departure_odate  return_ddate  los2  departure_dow  \\\n",
       "1202440      2013-09-15       2014-04-16    2014-04-23     7              3   \n",
       "1202441      2013-09-15       2014-04-16    2014-04-23     7              3   \n",
       "1202442      2013-09-15       2014-04-16    2014-04-23     7              3   \n",
       "1202443      2013-09-15       2014-04-16    2014-04-23     7              3   \n",
       "1202444      2013-09-15       2014-04-16    2014-04-23     7              3   \n",
       "\n",
       "         return_dow includes_sns  \n",
       "1202440           3            1  \n",
       "1202441           3            1  \n",
       "1202442           3            1  \n",
       "1202443           3            1  \n",
       "1202444           3            1  \n",
       "\n",
       "[5 rows x 31 columns]"
      ]
     },
     "execution_count": 3,
     "metadata": {},
     "output_type": "execute_result"
    }
   ],
   "source": [
    "flights.tail()"
   ]
  },
  {
   "cell_type": "code",
   "execution_count": 4,
   "metadata": {
    "collapsed": false
   },
   "outputs": [
    {
     "data": {
      "text/plain": [
       "Index([u'messageid', u'tripindex', u'received', u'currency', u'total', u'tax',\n",
       "       u'surcharge', u'source', u'merchant', u'majorcarrierid', u'origin',\n",
       "       u'destination', u'departure', u'return', u'outbounddurationminutes',\n",
       "       u'outboundstops', u'returndurationminutes', u'returnstops',\n",
       "       u'availableseats', u'cabinclass', u'paxtype', u'refundable',\n",
       "       u'triptimestamp', u'receiveddate', u'received_odate',\n",
       "       u'departure_odate', u'return_ddate', u'los2', u'departure_dow',\n",
       "       u'return_dow', u'includes_sns'],\n",
       "      dtype='object')"
      ]
     },
     "execution_count": 4,
     "metadata": {},
     "output_type": "execute_result"
    }
   ],
   "source": [
    "# I want to see all the  column names.\n",
    "\n",
    "flights.columns"
   ]
  },
  {
   "cell_type": "code",
   "execution_count": 6,
   "metadata": {
    "collapsed": false
   },
   "outputs": [
    {
     "name": "stdout",
     "output_type": "stream",
     "text": [
      "<class 'pandas.core.frame.DataFrame'>\n",
      "RangeIndex: 1202445 entries, 0 to 1202444\n",
      "Data columns (total 31 columns):\n",
      "messageid                  1202445 non-null object\n",
      "tripindex                  1202445 non-null int64\n",
      "received                   1202445 non-null int64\n",
      "currency                   1202445 non-null object\n",
      "total                      1202445 non-null float64\n",
      "tax                        1202445 non-null float64\n",
      "surcharge                  1202445 non-null float64\n",
      "source                     1202445 non-null object\n",
      "merchant                   1202445 non-null object\n",
      "majorcarrierid             1202445 non-null object\n",
      "origin                     1202445 non-null object\n",
      "destination                1202445 non-null object\n",
      "departure                  1202445 non-null int64\n",
      "return                     1202445 non-null int64\n",
      "outbounddurationminutes    1202445 non-null int64\n",
      "outboundstops              1202445 non-null int64\n",
      "returndurationminutes      1202445 non-null int64\n",
      "returnstops                1202445 non-null int64\n",
      "availableseats             1202445 non-null int64\n",
      "cabinclass                 1202445 non-null object\n",
      "paxtype                    1202445 non-null object\n",
      "refundable                 1202445 non-null bool\n",
      "triptimestamp              1202445 non-null int64\n",
      "receiveddate               1202445 non-null int64\n",
      "received_odate             1202445 non-null object\n",
      "departure_odate            1202445 non-null object\n",
      "return_ddate               1202445 non-null object\n",
      "los2                       1202445 non-null int64\n",
      "departure_dow              1202445 non-null int64\n",
      "return_dow                 1202445 non-null int64\n",
      "includes_sns               1202445 non-null int64\n",
      "dtypes: bool(1), float64(3), int64(15), object(12)\n",
      "memory usage: 276.4+ MB\n"
     ]
    }
   ],
   "source": [
    "# I want to get some basic information about the flights DataFrame\n",
    "\n",
    "flights.info()"
   ]
  },
  {
   "cell_type": "code",
   "execution_count": 7,
   "metadata": {
    "collapsed": false
   },
   "outputs": [
    {
     "name": "stderr",
     "output_type": "stream",
     "text": [
      "/Users/katarzynarachuta/anaconda/lib/python2.7/site-packages/seaborn/categorical.py:2125: UserWarning: The boxplot API has been changed. Attempting to adjust your arguments for the new API (which might not work). Please update your code. See the version 0.6 release notes for more info.\n",
      "  warnings.warn(msg, UserWarning)\n"
     ]
    },
    {
     "data": {
      "text/plain": [
       "'I noticed one very obvious outlier at ~$6,500\\n75%  of the tickets are under around ~$1250'"
      ]
     },
     "execution_count": 7,
     "metadata": {},
     "output_type": "execute_result"
    },
    {
     "data": {
      "image/png": "[encoded data removed]",
      "text/plain": [
       "<matplotlib.figure.Figure at 0x123c22f50>"
      ]
     },
     "metadata": {},
     "output_type": "display_data"
    }
   ],
   "source": [
    "'''I now want to quick visualise the data using a box plot\n",
    "This will help me to see how the data are spread out.\n",
    "Here I make the assumption that the total includes the tax.'''\n",
    "\n",
    "sns.boxplot(flights['total'], vert=False)\n",
    "\n",
    "'''I noticed one very obvious outlier at ~$6,500\n",
    "75%  of the tickets are under around ~$1250'''"
   ]
  },
  {
   "cell_type": "code",
   "execution_count": 11,
   "metadata": {
    "collapsed": false
   },
   "outputs": [
    {
     "data": {
      "text/plain": [
       "<matplotlib.axes._subplots.AxesSubplot at 0x119bc40d0>"
      ]
     },
     "execution_count": 11,
     "metadata": {},
     "output_type": "execute_result"
    },
    {
     "data": {
      "image/png": "[encoded data removed]",
      "text/plain": [
       "<matplotlib.figure.Figure at 0x11a0a0c90>"
      ]
     },
     "metadata": {},
     "output_type": "display_data"
    }
   ],
   "source": [
    "'''I also want to produce a violin plot as I am not sure if the box plot gives me the full picture.\n",
    "This will help me to see how the flights are distributed'''\n",
    "\n",
    "sns.violinplot(flights['total'])\n",
    "\n",
    "# I can now see that there are a lot of flights around ~$500-600."
   ]
  },
  {
   "cell_type": "code",
   "execution_count": 8,
   "metadata": {
    "collapsed": false
   },
   "outputs": [
    {
     "data": {
      "text/plain": [
       "(array([  3.69275000e+05,   4.02028000e+05,   1.76229000e+05,\n",
       "          1.10833000e+05,   6.60720000e+04,   4.90930000e+04,\n",
       "          1.95260000e+04,   7.10100000e+03,   1.57200000e+03,\n",
       "          3.33000000e+02,   2.05000000e+02,   1.80000000e+01,\n",
       "          9.00000000e+00,   4.00000000e+00,   9.00000000e+00,\n",
       "          1.00000000e+00,   1.00000000e+00,   6.00000000e+00,\n",
       "          0.00000000e+00,   1.00000000e+00,   1.00000000e+00,\n",
       "          0.00000000e+00,   4.00000000e+00,   0.00000000e+00,\n",
       "          0.00000000e+00,   0.00000000e+00,   0.00000000e+00,\n",
       "          0.00000000e+00,   0.00000000e+00,   0.00000000e+00,\n",
       "          0.00000000e+00,   0.00000000e+00,   0.00000000e+00,\n",
       "          0.00000000e+00,   1.24000000e+02]),\n",
       " array([  320.37      ,   497.60914286,   674.84828571,   852.08742857,\n",
       "         1029.32657143,  1206.56571429,  1383.80485714,  1561.044     ,\n",
       "         1738.28314286,  1915.52228571,  2092.76142857,  2270.00057143,\n",
       "         2447.23971429,  2624.47885714,  2801.718     ,  2978.95714286,\n",
       "         3156.19628571,  3333.43542857,  3510.67457143,  3687.91371429,\n",
       "         3865.15285714,  4042.392     ,  4219.63114286,  4396.87028571,\n",
       "         4574.10942857,  4751.34857143,  4928.58771429,  5105.82685714,\n",
       "         5283.066     ,  5460.30514286,  5637.54428571,  5814.78342857,\n",
       "         5992.02257143,  6169.26171429,  6346.50085714,  6523.74      ]),\n",
       " <a list of 35 Patch objects>)"
      ]
     },
     "execution_count": 8,
     "metadata": {},
     "output_type": "execute_result"
    },
    {
     "data": {
      "image/png": "[encoded data removed]",
      "text/plain": [
       "<matplotlib.figure.Figure at 0x11b45ea10>"
      ]
     },
     "metadata": {},
     "output_type": "display_data"
    }
   ],
   "source": [
    "'''One last viualisation is a histogram. \n",
    "I played around witht the number of bins and decided to stick to 35 as this produces a clear picture.\n",
    "Looking at the histogram, I actually think I could have skipped the violin plot.'''\n",
    "\n",
    "plt.hist(flights['total'], bins=35)"
   ]
  },
  {
   "cell_type": "code",
   "execution_count": 9,
   "metadata": {
    "collapsed": false
   },
   "outputs": [
    {
     "data": {
      "text/plain": [
       "(array([  1.70000000e+03,   3.43490000e+04,   1.08253000e+05,\n",
       "          1.03648000e+05,   9.39940000e+04,   9.47580000e+04,\n",
       "          8.23930000e+04,   7.78260000e+04,   7.75220000e+04,\n",
       "          6.76010000e+04,   4.94840000e+04,   4.35420000e+04,\n",
       "          2.95500000e+04,   3.42650000e+04,   2.70490000e+04,\n",
       "          2.36180000e+04,   2.75910000e+04,   2.76190000e+04,\n",
       "          1.92230000e+04,   1.86750000e+04,   1.47200000e+04,\n",
       "          1.04230000e+04,   1.30620000e+04,   1.26590000e+04,\n",
       "          1.54020000e+04,   1.13250000e+04,   1.06140000e+04,\n",
       "          1.39430000e+04,   1.09710000e+04,   6.61300000e+03,\n",
       "          7.38300000e+03,   5.17300000e+03,   3.49000000e+03,\n",
       "          4.71100000e+03,   3.58600000e+03,   3.65500000e+03,\n",
       "          2.67100000e+03,   1.91600000e+03,   9.98000000e+02,\n",
       "          1.19400000e+03,   1.54600000e+03,   1.36900000e+03,\n",
       "          3.87000000e+02,   6.13000000e+02,   2.76000000e+02,\n",
       "          1.68000000e+02,   9.90000000e+01,   1.61000000e+02,\n",
       "          2.06000000e+02,   2.30000000e+01]),\n",
       " array([  320.37  ,   353.9296,   387.4892,   421.0488,   454.6084,\n",
       "          488.168 ,   521.7276,   555.2872,   588.8468,   622.4064,\n",
       "          655.966 ,   689.5256,   723.0852,   756.6448,   790.2044,\n",
       "          823.764 ,   857.3236,   890.8832,   924.4428,   958.0024,\n",
       "          991.562 ,  1025.1216,  1058.6812,  1092.2408,  1125.8004,\n",
       "         1159.36  ,  1192.9196,  1226.4792,  1260.0388,  1293.5984,\n",
       "         1327.158 ,  1360.7176,  1394.2772,  1427.8368,  1461.3964,\n",
       "         1494.956 ,  1528.5156,  1562.0752,  1595.6348,  1629.1944,\n",
       "         1662.754 ,  1696.3136,  1729.8732,  1763.4328,  1796.9924,\n",
       "         1830.552 ,  1864.1116,  1897.6712,  1931.2308,  1964.7904,  1998.35  ]),\n",
       " <a list of 50 Patch objects>)"
      ]
     },
     "execution_count": 9,
     "metadata": {},
     "output_type": "execute_result"
    },
    {
     "data": {
      "image/png": "[encoded data removed]",
      "text/plain": [
       "<matplotlib.figure.Figure at 0x1178bc3d0>"
      ]
     },
     "metadata": {},
     "output_type": "display_data"
    }
   ],
   "source": [
    "'''It seems to me that it would make sense to visualise the data for prices below $2,000.\n",
    "This will allow me to see better the distribution around those lower values.'''\n",
    "\n",
    "flights2 = flights[flights['total'] < 2000]\n",
    "\n",
    "plt.hist(flights2['total'], bins=50)"
   ]
  },
  {
   "cell_type": "code",
   "execution_count": 10,
   "metadata": {
    "collapsed": false
   },
   "outputs": [
    {
     "data": {
      "text/html": [
       "<div>\n",
       "<table border=\"1\" class=\"dataframe\">\n",
       "  <thead>\n",
       "    <tr style=\"text-align: right;\">\n",
       "      <th></th>\n",
       "      <th>total</th>\n",
       "    </tr>\n",
       "  </thead>\n",
       "  <tbody>\n",
       "    <tr>\n",
       "      <th>count</th>\n",
       "      <td>1.202445e+06</td>\n",
       "    </tr>\n",
       "    <tr>\n",
       "      <th>mean</th>\n",
       "      <td>6.742877e+02</td>\n",
       "    </tr>\n",
       "    <tr>\n",
       "      <th>std</th>\n",
       "      <td>2.787050e+02</td>\n",
       "    </tr>\n",
       "    <tr>\n",
       "      <th>min</th>\n",
       "      <td>3.203700e+02</td>\n",
       "    </tr>\n",
       "    <tr>\n",
       "      <th>25%</th>\n",
       "      <td>4.719500e+02</td>\n",
       "    </tr>\n",
       "    <tr>\n",
       "      <th>50%</th>\n",
       "      <td>5.913700e+02</td>\n",
       "    </tr>\n",
       "    <tr>\n",
       "      <th>75%</th>\n",
       "      <td>7.933700e+02</td>\n",
       "    </tr>\n",
       "    <tr>\n",
       "      <th>max</th>\n",
       "      <td>6.523740e+03</td>\n",
       "    </tr>\n",
       "  </tbody>\n",
       "</table>\n",
       "</div>"
      ],
      "text/plain": [
       "              total\n",
       "count  1.202445e+06\n",
       "mean   6.742877e+02\n",
       "std    2.787050e+02\n",
       "min    3.203700e+02\n",
       "25%    4.719500e+02\n",
       "50%    5.913700e+02\n",
       "75%    7.933700e+02\n",
       "max    6.523740e+03"
      ]
     },
     "execution_count": 10,
     "metadata": {},
     "output_type": "execute_result"
    }
   ],
   "source": [
    "'''I have now seen how the data are distributed.\n",
    "I want to get now the actual numbers for the mean and quartiles.'''\n",
    "\n",
    "flights_price = flights['total']\n",
    "flights_price = pd.DataFrame(flights_price)\n",
    "flights_price.describe()"
   ]
  },
  {
   "cell_type": "code",
   "execution_count": 12,
   "metadata": {
    "collapsed": false
   },
   "outputs": [],
   "source": [
    "'''This means that the mean price is ~$674, we will pay the minimum of $320. \n",
    "50% of the flights cost $591 or less and 75% of the flights cost $793 or less.\n",
    "The most expensive flight was at $6523.74'''"
   ]
  },
  {
   "cell_type": "code",
   "execution_count": null,
   "metadata": {
    "collapsed": true
   },
   "outputs": [],
   "source": [
    "'''There are a number of factors that will affect the price: \n",
    "the cabin class - I would expect the flights to be expensive for first class and cheapest for the economy class\n",
    "the number of stopovers - I expect direct flights to be most expensive\n",
    "refundable/non-refundable tickets - I would expect the latter to be cheaper\n",
    "airline - some airlines will be more expensive than others\n",
    "date booked - booking really far ahead and really close to the departure date should be expensive\n",
    "travel time - some times will be cheaper than others\n",
    "day of the week when we searched for the prices - usually it is recommended that you book a flight on a Tuesday and\n",
    "avoid booking on a Friday.\n",
    "I will now test these hypotheses.'''"
   ]
  }
 ],
 "metadata": {
  "kernelspec": {
   "display_name": "Python 2",
   "language": "python",
   "name": "python2"
  },
  "language_info": {
   "codemirror_mode": {
    "name": "ipython",
    "version": 2
   },
   "file_extension": ".py",
   "mimetype": "text/x-python",
   "name": "python",
   "nbconvert_exporter": "python",
   "pygments_lexer": "ipython2",
   "version": "2.7.11"
  }
 },
 "nbformat": 4,
 "nbformat_minor": 0
}
